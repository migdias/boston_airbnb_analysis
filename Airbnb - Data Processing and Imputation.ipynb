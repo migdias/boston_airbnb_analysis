{
 "cells": [
  {
   "cell_type": "markdown",
   "metadata": {},
   "source": [
    "<font size=6><center>**Data Processing for the Boston Airbnb Dataset**</center></font>"
   ]
  },
  {
   "cell_type": "code",
   "execution_count": 60,
   "metadata": {
    "ExecuteTime": {
     "end_time": "2020-02-06T14:44:31.962151Z",
     "start_time": "2020-02-06T14:44:31.953926Z"
    }
   },
   "outputs": [],
   "source": [
    "# Imports\n",
    "import pandas as pd\n",
    "pd.set_option('display.max_columns', None)\n",
    "import matplotlib.pyplot as plt\n",
    "import seaborn as sns\n",
    "import numpy as np\n",
    "from ast import literal_eval\n",
    "\n",
    "# Magic Functions\n",
    "%matplotlib inline\n"
   ]
  },
  {
   "cell_type": "markdown",
   "metadata": {},
   "source": [
    "# Functions"
   ]
  },
  {
   "cell_type": "code",
   "execution_count": 61,
   "metadata": {
    "ExecuteTime": {
     "end_time": "2020-02-06T14:44:32.584216Z",
     "start_time": "2020-02-06T14:44:32.569682Z"
    }
   },
   "outputs": [],
   "source": [
    "def make_ax(w, h):\n",
    "    \"\"\"\n",
    "    INPUT:\n",
    "    w - Width of a figure desired\n",
    "    h - Height of the figure desired\n",
    "    \n",
    "    OUTPUT:\n",
    "    fig - Figure with the desired dimensions\n",
    "    ax - axis for the figure desired\n",
    "    \"\"\"\n",
    "    \n",
    "    fig = plt.figure(figsize = (w,h))\n",
    "    ax = fig.gca()\n",
    "    return fig, ax\n",
    "\n",
    "def parse_amenities(amenities_col):\n",
    "    \"\"\"\n",
    "    INPUT:\n",
    "    amenities_col - the pandas series containing the amenities\n",
    "    \n",
    "    OUTPUT:\n",
    "    df - returns back the original series parsed into a list so it can be ised by the list2dummies function\n",
    "    \"\"\"\n",
    "    \n",
    "    amenities_col = amenities_col.str.replace(\"{\", \"[\")\n",
    "    amenities_col = amenities_col.str.replace(\"\\\"\", \"\")\n",
    "    amenities_col = amenities_col.str.replace(\"}\", \"]\")\n",
    "    amenities_col = amenities_col.str.replace(\"[\", \"[\\\"\")\n",
    "    amenities_col = amenities_col.str.replace(\"]\", \"\\\"]\")\n",
    "    amenities_col = amenities_col.str.replace(\",\", \"\\\",\\\"\")\n",
    "    return amenities_col\n",
    "\n",
    "def parse_prices(df, cols):\n",
    "    \"\"\"\n",
    "    INPUT:\n",
    "    df - the pandas dataframe containing bad price values\n",
    "    cols - the columns which have price tags\n",
    "    \n",
    "    OUTPUT:\n",
    "    df - returns back the original dataframe with parsed prices as floats\n",
    "    \"\"\"\n",
    "    for col in cols:\n",
    "        df[col] = df[col].str.replace('$', '')\n",
    "        df[col] = df[col].str.replace(',', '')\n",
    "        df[col] = df[col].astype(float)\n",
    "    return df\n",
    "\n",
    "def list2dummies(df_col, prefix):\n",
    "    \"\"\"\n",
    "    INPUT:\n",
    "    df_col - Pandas series containing a stringed list\n",
    "    prefix - The prefix desired for the dummies\n",
    "    \n",
    "    OUTPUT:\n",
    "    dummies - returns back dummy columns for the df_col stringed list\n",
    "    \"\"\"\n",
    "    \n",
    "    df_col = df_col.apply(literal_eval) # literal eval transforms string into list\n",
    "    \n",
    "    # stack values in list and create pandas dummy variables for each\n",
    "    dummies = pd.get_dummies(df_col.apply(pd.Series).stack(), prefix = prefix).sum(level=0).astype(int)\n",
    "    return dummies\n",
    "\n",
    "def round_half(number):\n",
    "    \"\"\"\n",
    "    INPUT:\n",
    "    number - number to be rounded\n",
    "    \n",
    "    OUTPUT:\n",
    "    rounded - rounds number to closest 0.5\n",
    "    \"\"\"\n",
    "    rounded = round(number*2)/2\n",
    "    \n",
    "    return rounded"
   ]
  },
  {
   "cell_type": "markdown",
   "metadata": {},
   "source": [
    "# Listings Data\n",
    "\n",
    "In this section, the data regarding each listing of Airbnb will be ingested and processed for future analysis.\n",
    "\n",
    "The listing data holds information about each listing, such has review scores, verifications, requirements, amenities, type of property, bed, room, and much more."
   ]
  },
  {
   "cell_type": "markdown",
   "metadata": {},
   "source": [
    "## Read and Drop text /URL columns"
   ]
  },
  {
   "cell_type": "code",
   "execution_count": 62,
   "metadata": {
    "ExecuteTime": {
     "end_time": "2020-02-06T14:44:32.964818Z",
     "start_time": "2020-02-06T14:44:32.774266Z"
    }
   },
   "outputs": [
    {
     "data": {
      "text/html": [
       "<div>\n",
       "<style scoped>\n",
       "    .dataframe tbody tr th:only-of-type {\n",
       "        vertical-align: middle;\n",
       "    }\n",
       "\n",
       "    .dataframe tbody tr th {\n",
       "        vertical-align: top;\n",
       "    }\n",
       "\n",
       "    .dataframe thead th {\n",
       "        text-align: right;\n",
       "    }\n",
       "</style>\n",
       "<table border=\"1\" class=\"dataframe\">\n",
       "  <thead>\n",
       "    <tr style=\"text-align: right;\">\n",
       "      <th></th>\n",
       "      <th>id</th>\n",
       "      <th>last_scraped</th>\n",
       "      <th>host_id</th>\n",
       "      <th>host_name</th>\n",
       "      <th>host_since</th>\n",
       "      <th>host_response_time</th>\n",
       "      <th>host_response_rate</th>\n",
       "      <th>host_acceptance_rate</th>\n",
       "      <th>host_is_superhost</th>\n",
       "      <th>host_listings_count</th>\n",
       "      <th>host_verifications</th>\n",
       "      <th>host_has_profile_pic</th>\n",
       "      <th>host_identity_verified</th>\n",
       "      <th>street</th>\n",
       "      <th>neighbourhood_cleansed</th>\n",
       "      <th>zipcode</th>\n",
       "      <th>latitude</th>\n",
       "      <th>longitude</th>\n",
       "      <th>property_type</th>\n",
       "      <th>room_type</th>\n",
       "      <th>accommodates</th>\n",
       "      <th>bathrooms</th>\n",
       "      <th>bedrooms</th>\n",
       "      <th>beds</th>\n",
       "      <th>bed_type</th>\n",
       "      <th>amenities</th>\n",
       "      <th>square_feet</th>\n",
       "      <th>price</th>\n",
       "      <th>cleaning_fee</th>\n",
       "      <th>guests_included</th>\n",
       "      <th>extra_people</th>\n",
       "      <th>minimum_nights</th>\n",
       "      <th>maximum_nights</th>\n",
       "      <th>availability_30</th>\n",
       "      <th>availability_60</th>\n",
       "      <th>availability_90</th>\n",
       "      <th>availability_365</th>\n",
       "      <th>number_of_reviews</th>\n",
       "      <th>first_review</th>\n",
       "      <th>last_review</th>\n",
       "      <th>review_scores_rating</th>\n",
       "      <th>review_scores_accuracy</th>\n",
       "      <th>review_scores_cleanliness</th>\n",
       "      <th>review_scores_checkin</th>\n",
       "      <th>review_scores_communication</th>\n",
       "      <th>review_scores_location</th>\n",
       "      <th>review_scores_value</th>\n",
       "      <th>instant_bookable</th>\n",
       "      <th>cancellation_policy</th>\n",
       "      <th>require_guest_profile_picture</th>\n",
       "      <th>require_guest_phone_verification</th>\n",
       "      <th>reviews_per_month</th>\n",
       "    </tr>\n",
       "  </thead>\n",
       "  <tbody>\n",
       "    <tr>\n",
       "      <th>259</th>\n",
       "      <td>4105704</td>\n",
       "      <td>2016-09-07</td>\n",
       "      <td>21299112</td>\n",
       "      <td>Helen</td>\n",
       "      <td>2014-09-13</td>\n",
       "      <td>within a day</td>\n",
       "      <td>100%</td>\n",
       "      <td>100%</td>\n",
       "      <td>t</td>\n",
       "      <td>2</td>\n",
       "      <td>['email', 'phone', 'reviews', 'kba']</td>\n",
       "      <td>t</td>\n",
       "      <td>t</td>\n",
       "      <td>Hampstead Road, Boston, MA 02130, United States</td>\n",
       "      <td>Jamaica Plain</td>\n",
       "      <td>02130</td>\n",
       "      <td>42.302364</td>\n",
       "      <td>-71.114910</td>\n",
       "      <td>House</td>\n",
       "      <td>Entire home/apt</td>\n",
       "      <td>2</td>\n",
       "      <td>1.0</td>\n",
       "      <td>1.0</td>\n",
       "      <td>1.0</td>\n",
       "      <td>Real Bed</td>\n",
       "      <td>{TV,\"Cable TV\",Internet,\"Wireless Internet\",\"A...</td>\n",
       "      <td>NaN</td>\n",
       "      <td>$135.00</td>\n",
       "      <td>$30.00</td>\n",
       "      <td>1</td>\n",
       "      <td>$0.00</td>\n",
       "      <td>2</td>\n",
       "      <td>1125</td>\n",
       "      <td>4</td>\n",
       "      <td>16</td>\n",
       "      <td>36</td>\n",
       "      <td>284</td>\n",
       "      <td>104</td>\n",
       "      <td>2014-10-10</td>\n",
       "      <td>2016-08-25</td>\n",
       "      <td>98.0</td>\n",
       "      <td>10.0</td>\n",
       "      <td>10.0</td>\n",
       "      <td>10.0</td>\n",
       "      <td>10.0</td>\n",
       "      <td>10.0</td>\n",
       "      <td>10.0</td>\n",
       "      <td>f</td>\n",
       "      <td>moderate</td>\n",
       "      <td>f</td>\n",
       "      <td>f</td>\n",
       "      <td>4.46</td>\n",
       "    </tr>\n",
       "    <tr>\n",
       "      <th>139</th>\n",
       "      <td>7845607</td>\n",
       "      <td>2016-09-07</td>\n",
       "      <td>38120441</td>\n",
       "      <td>Jacob</td>\n",
       "      <td>2015-07-10</td>\n",
       "      <td>within a day</td>\n",
       "      <td>90%</td>\n",
       "      <td>88%</td>\n",
       "      <td>f</td>\n",
       "      <td>1</td>\n",
       "      <td>['email', 'phone', 'facebook', 'reviews', 'jum...</td>\n",
       "      <td>t</td>\n",
       "      <td>t</td>\n",
       "      <td>Goodrich Road, Boston, MA 02130, United States</td>\n",
       "      <td>Jamaica Plain</td>\n",
       "      <td>02130</td>\n",
       "      <td>42.315798</td>\n",
       "      <td>-71.116963</td>\n",
       "      <td>House</td>\n",
       "      <td>Private room</td>\n",
       "      <td>1</td>\n",
       "      <td>1.0</td>\n",
       "      <td>1.0</td>\n",
       "      <td>1.0</td>\n",
       "      <td>Real Bed</td>\n",
       "      <td>{Internet,\"Wireless Internet\",Kitchen,\"Pets Al...</td>\n",
       "      <td>NaN</td>\n",
       "      <td>$55.00</td>\n",
       "      <td>$20.00</td>\n",
       "      <td>1</td>\n",
       "      <td>$25.00</td>\n",
       "      <td>1</td>\n",
       "      <td>1125</td>\n",
       "      <td>0</td>\n",
       "      <td>0</td>\n",
       "      <td>0</td>\n",
       "      <td>0</td>\n",
       "      <td>9</td>\n",
       "      <td>2015-09-08</td>\n",
       "      <td>2016-08-03</td>\n",
       "      <td>78.0</td>\n",
       "      <td>9.0</td>\n",
       "      <td>6.0</td>\n",
       "      <td>9.0</td>\n",
       "      <td>9.0</td>\n",
       "      <td>9.0</td>\n",
       "      <td>8.0</td>\n",
       "      <td>f</td>\n",
       "      <td>flexible</td>\n",
       "      <td>f</td>\n",
       "      <td>f</td>\n",
       "      <td>0.74</td>\n",
       "    </tr>\n",
       "  </tbody>\n",
       "</table>\n",
       "</div>"
      ],
      "text/plain": [
       "          id last_scraped   host_id host_name host_since host_response_time  \\\n",
       "259  4105704   2016-09-07  21299112     Helen 2014-09-13       within a day   \n",
       "139  7845607   2016-09-07  38120441     Jacob 2015-07-10       within a day   \n",
       "\n",
       "    host_response_rate host_acceptance_rate host_is_superhost  \\\n",
       "259               100%                 100%                 t   \n",
       "139                90%                  88%                 f   \n",
       "\n",
       "     host_listings_count                                 host_verifications  \\\n",
       "259                    2               ['email', 'phone', 'reviews', 'kba']   \n",
       "139                    1  ['email', 'phone', 'facebook', 'reviews', 'jum...   \n",
       "\n",
       "    host_has_profile_pic host_identity_verified  \\\n",
       "259                    t                      t   \n",
       "139                    t                      t   \n",
       "\n",
       "                                              street neighbourhood_cleansed  \\\n",
       "259  Hampstead Road, Boston, MA 02130, United States          Jamaica Plain   \n",
       "139   Goodrich Road, Boston, MA 02130, United States          Jamaica Plain   \n",
       "\n",
       "    zipcode   latitude  longitude property_type        room_type  \\\n",
       "259   02130  42.302364 -71.114910         House  Entire home/apt   \n",
       "139   02130  42.315798 -71.116963         House     Private room   \n",
       "\n",
       "     accommodates  bathrooms  bedrooms  beds  bed_type  \\\n",
       "259             2        1.0       1.0   1.0  Real Bed   \n",
       "139             1        1.0       1.0   1.0  Real Bed   \n",
       "\n",
       "                                             amenities  square_feet    price  \\\n",
       "259  {TV,\"Cable TV\",Internet,\"Wireless Internet\",\"A...          NaN  $135.00   \n",
       "139  {Internet,\"Wireless Internet\",Kitchen,\"Pets Al...          NaN   $55.00   \n",
       "\n",
       "    cleaning_fee  guests_included extra_people  minimum_nights  \\\n",
       "259       $30.00                1        $0.00               2   \n",
       "139       $20.00                1       $25.00               1   \n",
       "\n",
       "     maximum_nights  availability_30  availability_60  availability_90  \\\n",
       "259            1125                4               16               36   \n",
       "139            1125                0                0                0   \n",
       "\n",
       "     availability_365  number_of_reviews first_review last_review  \\\n",
       "259               284                104   2014-10-10  2016-08-25   \n",
       "139                 0                  9   2015-09-08  2016-08-03   \n",
       "\n",
       "     review_scores_rating  review_scores_accuracy  review_scores_cleanliness  \\\n",
       "259                  98.0                    10.0                       10.0   \n",
       "139                  78.0                     9.0                        6.0   \n",
       "\n",
       "     review_scores_checkin  review_scores_communication  \\\n",
       "259                   10.0                         10.0   \n",
       "139                    9.0                          9.0   \n",
       "\n",
       "     review_scores_location  review_scores_value instant_bookable  \\\n",
       "259                    10.0                 10.0                f   \n",
       "139                     9.0                  8.0                f   \n",
       "\n",
       "    cancellation_policy require_guest_profile_picture  \\\n",
       "259            moderate                             f   \n",
       "139            flexible                             f   \n",
       "\n",
       "    require_guest_phone_verification  reviews_per_month  \n",
       "259                                f               4.46  \n",
       "139                                f               0.74  "
      ]
     },
     "execution_count": 62,
     "metadata": {},
     "output_type": "execute_result"
    }
   ],
   "source": [
    "## Droping some columns that after a careful view will not be necessary for my purposes, such as URLs, some IDs, text columns, some ambiguous locations and some others.\n",
    "\n",
    "data = pd.read_csv('listings.csv', parse_dates=[\n",
    "    \"host_since\", \n",
    "    \"first_review\", \n",
    "    \"last_review\", \n",
    "    \"last_scraped\"]).drop([\n",
    "    \"listing_url\", \n",
    "    \"scrape_id\", \n",
    "    \"experiences_offered\", \n",
    "    \"thumbnail_url\", \n",
    "    \"medium_url\", \n",
    "    \"picture_url\", \n",
    "    \"xl_picture_url\", \n",
    "    \"host_url\", \n",
    "    \"host_thumbnail_url\",\n",
    "    \"host_picture_url\", \n",
    "    \"name\", \n",
    "    \"summary\", \n",
    "    \"space\", \n",
    "    \"description\", \n",
    "    \"neighborhood_overview\", \n",
    "    \"notes\", \n",
    "    \"transit\",\n",
    "    \"access\", \n",
    "    \"interaction\", \n",
    "    \"house_rules\", \n",
    "    \"host_location\",\n",
    "    \"host_about\", \n",
    "    \"state\", \n",
    "    \"city\", \n",
    "    \"market\", \n",
    "    \"smart_location\", \n",
    "    \"country_code\", \n",
    "    \"is_location_exact\", \n",
    "    \"country\", \n",
    "    \"license\", \n",
    "    \"jurisdiction_names\", \n",
    "    \"requires_license\", \n",
    "    \"calendar_last_scraped\", \n",
    "    \"calendar_updated\",\n",
    "    \"host_total_listings_count\", \n",
    "    \"has_availability\",\n",
    "    \"calculated_host_listings_count\",\n",
    "    \"host_neighbourhood\", \n",
    "    \"neighbourhood\", \n",
    "    \"neighbourhood_group_cleansed\",\n",
    "    \"weekly_price\", \n",
    "    \"monthly_price\",\n",
    "    \"security_deposit\"\n",
    "], axis=1)\n",
    "\n",
    "data.sample(2)"
   ]
  },
  {
   "cell_type": "markdown",
   "metadata": {},
   "source": [
    "## Data Processing\n",
    "\n",
    "In this Section will be performed some data processing of the data in question. Some of the columns come in a non-adequate format and have to be dealt with."
   ]
  },
  {
   "cell_type": "markdown",
   "metadata": {},
   "source": [
    "### Percentages\n",
    "\n",
    "The Percentage data in this dataset has the percentage symbol and which makes it a string. In order to better use this variable I passed it from Categorical to Numeric, making it a ratio instead"
   ]
  },
  {
   "cell_type": "code",
   "execution_count": 63,
   "metadata": {
    "ExecuteTime": {
     "end_time": "2020-02-06T14:44:33.241207Z",
     "start_time": "2020-02-06T14:44:33.226663Z"
    }
   },
   "outputs": [
    {
     "data": {
      "text/html": [
       "<div>\n",
       "<style scoped>\n",
       "    .dataframe tbody tr th:only-of-type {\n",
       "        vertical-align: middle;\n",
       "    }\n",
       "\n",
       "    .dataframe tbody tr th {\n",
       "        vertical-align: top;\n",
       "    }\n",
       "\n",
       "    .dataframe thead th {\n",
       "        text-align: right;\n",
       "    }\n",
       "</style>\n",
       "<table border=\"1\" class=\"dataframe\">\n",
       "  <thead>\n",
       "    <tr style=\"text-align: right;\">\n",
       "      <th></th>\n",
       "      <th>host_response_rate</th>\n",
       "      <th>host_acceptance_rate</th>\n",
       "    </tr>\n",
       "  </thead>\n",
       "  <tbody>\n",
       "    <tr>\n",
       "      <th>0</th>\n",
       "      <td>NaN</td>\n",
       "      <td>NaN</td>\n",
       "    </tr>\n",
       "    <tr>\n",
       "      <th>1</th>\n",
       "      <td>100%</td>\n",
       "      <td>100%</td>\n",
       "    </tr>\n",
       "    <tr>\n",
       "      <th>2</th>\n",
       "      <td>100%</td>\n",
       "      <td>88%</td>\n",
       "    </tr>\n",
       "  </tbody>\n",
       "</table>\n",
       "</div>"
      ],
      "text/plain": [
       "  host_response_rate host_acceptance_rate\n",
       "0                NaN                  NaN\n",
       "1               100%                 100%\n",
       "2               100%                  88%"
      ]
     },
     "execution_count": 63,
     "metadata": {},
     "output_type": "execute_result"
    }
   ],
   "source": [
    "data[[\"host_response_rate\", \"host_acceptance_rate\"]].head(3)"
   ]
  },
  {
   "cell_type": "code",
   "execution_count": 64,
   "metadata": {
    "ExecuteTime": {
     "end_time": "2020-02-06T14:44:33.259463Z",
     "start_time": "2020-02-06T14:44:33.242699Z"
    }
   },
   "outputs": [
    {
     "data": {
      "text/html": [
       "<div>\n",
       "<style scoped>\n",
       "    .dataframe tbody tr th:only-of-type {\n",
       "        vertical-align: middle;\n",
       "    }\n",
       "\n",
       "    .dataframe tbody tr th {\n",
       "        vertical-align: top;\n",
       "    }\n",
       "\n",
       "    .dataframe thead th {\n",
       "        text-align: right;\n",
       "    }\n",
       "</style>\n",
       "<table border=\"1\" class=\"dataframe\">\n",
       "  <thead>\n",
       "    <tr style=\"text-align: right;\">\n",
       "      <th></th>\n",
       "      <th>host_response_rate</th>\n",
       "      <th>host_acceptance_rate</th>\n",
       "    </tr>\n",
       "  </thead>\n",
       "  <tbody>\n",
       "    <tr>\n",
       "      <th>0</th>\n",
       "      <td>NaN</td>\n",
       "      <td>NaN</td>\n",
       "    </tr>\n",
       "    <tr>\n",
       "      <th>1</th>\n",
       "      <td>1.0</td>\n",
       "      <td>1.00</td>\n",
       "    </tr>\n",
       "    <tr>\n",
       "      <th>2</th>\n",
       "      <td>1.0</td>\n",
       "      <td>0.88</td>\n",
       "    </tr>\n",
       "  </tbody>\n",
       "</table>\n",
       "</div>"
      ],
      "text/plain": [
       "   host_response_rate  host_acceptance_rate\n",
       "0                 NaN                   NaN\n",
       "1                 1.0                  1.00\n",
       "2                 1.0                  0.88"
      ]
     },
     "execution_count": 64,
     "metadata": {},
     "output_type": "execute_result"
    }
   ],
   "source": [
    "data[\"host_response_rate\"] = data[\"host_response_rate\"].str.replace('%', '').astype(float)/100\n",
    "data[\"host_acceptance_rate\"] = data[\"host_acceptance_rate\"].str.replace('%', '').astype(float)/100\n",
    "data[[\"host_response_rate\", \"host_acceptance_rate\"]].head(3)"
   ]
  },
  {
   "cell_type": "markdown",
   "metadata": {},
   "source": [
    "### Booleans\n",
    "\n",
    "The Booleans in this dataset are represented as strings of either **'t'** for **true** or **'f'** for **false**.\n",
    "\n",
    "Having this, it is possible to turn it around and make it a real Boolean value, but for the sake of out later analysis we make it a numeric binary instead. \n",
    "That way it becomes easier to perform statistics such has \"How many of the listings have **instant bookable** turned on?\""
   ]
  },
  {
   "cell_type": "code",
   "execution_count": 65,
   "metadata": {
    "ExecuteTime": {
     "end_time": "2020-02-06T14:44:33.319045Z",
     "start_time": "2020-02-06T14:44:33.304138Z"
    }
   },
   "outputs": [
    {
     "data": {
      "text/html": [
       "<div>\n",
       "<style scoped>\n",
       "    .dataframe tbody tr th:only-of-type {\n",
       "        vertical-align: middle;\n",
       "    }\n",
       "\n",
       "    .dataframe tbody tr th {\n",
       "        vertical-align: top;\n",
       "    }\n",
       "\n",
       "    .dataframe thead th {\n",
       "        text-align: right;\n",
       "    }\n",
       "</style>\n",
       "<table border=\"1\" class=\"dataframe\">\n",
       "  <thead>\n",
       "    <tr style=\"text-align: right;\">\n",
       "      <th></th>\n",
       "      <th>host_is_superhost</th>\n",
       "      <th>host_has_profile_pic</th>\n",
       "      <th>host_identity_verified</th>\n",
       "      <th>instant_bookable</th>\n",
       "      <th>require_guest_profile_picture</th>\n",
       "      <th>require_guest_phone_verification</th>\n",
       "    </tr>\n",
       "  </thead>\n",
       "  <tbody>\n",
       "    <tr>\n",
       "      <th>0</th>\n",
       "      <td>f</td>\n",
       "      <td>t</td>\n",
       "      <td>f</td>\n",
       "      <td>f</td>\n",
       "      <td>f</td>\n",
       "      <td>f</td>\n",
       "    </tr>\n",
       "    <tr>\n",
       "      <th>1</th>\n",
       "      <td>f</td>\n",
       "      <td>t</td>\n",
       "      <td>t</td>\n",
       "      <td>t</td>\n",
       "      <td>f</td>\n",
       "      <td>f</td>\n",
       "    </tr>\n",
       "  </tbody>\n",
       "</table>\n",
       "</div>"
      ],
      "text/plain": [
       "  host_is_superhost host_has_profile_pic host_identity_verified  \\\n",
       "0                 f                    t                      f   \n",
       "1                 f                    t                      t   \n",
       "\n",
       "  instant_bookable require_guest_profile_picture  \\\n",
       "0                f                             f   \n",
       "1                t                             f   \n",
       "\n",
       "  require_guest_phone_verification  \n",
       "0                                f  \n",
       "1                                f  "
      ]
     },
     "execution_count": 65,
     "metadata": {},
     "output_type": "execute_result"
    }
   ],
   "source": [
    "# Change f and t to binary\n",
    "bool_cols = [\"host_is_superhost\", \n",
    "             \"host_has_profile_pic\", \n",
    "             \"host_identity_verified\",\n",
    "             \"instant_bookable\", \n",
    "             \"require_guest_profile_picture\", \n",
    "             \"require_guest_phone_verification\"]\n",
    "\n",
    "data[bool_cols].head(2)"
   ]
  },
  {
   "cell_type": "code",
   "execution_count": 66,
   "metadata": {
    "ExecuteTime": {
     "end_time": "2020-02-06T14:44:33.384720Z",
     "start_time": "2020-02-06T14:44:33.360057Z"
    }
   },
   "outputs": [
    {
     "data": {
      "text/html": [
       "<div>\n",
       "<style scoped>\n",
       "    .dataframe tbody tr th:only-of-type {\n",
       "        vertical-align: middle;\n",
       "    }\n",
       "\n",
       "    .dataframe tbody tr th {\n",
       "        vertical-align: top;\n",
       "    }\n",
       "\n",
       "    .dataframe thead th {\n",
       "        text-align: right;\n",
       "    }\n",
       "</style>\n",
       "<table border=\"1\" class=\"dataframe\">\n",
       "  <thead>\n",
       "    <tr style=\"text-align: right;\">\n",
       "      <th></th>\n",
       "      <th>host_is_superhost</th>\n",
       "      <th>host_has_profile_pic</th>\n",
       "      <th>host_identity_verified</th>\n",
       "      <th>instant_bookable</th>\n",
       "      <th>require_guest_profile_picture</th>\n",
       "      <th>require_guest_phone_verification</th>\n",
       "    </tr>\n",
       "  </thead>\n",
       "  <tbody>\n",
       "    <tr>\n",
       "      <th>0</th>\n",
       "      <td>0</td>\n",
       "      <td>1</td>\n",
       "      <td>0</td>\n",
       "      <td>0</td>\n",
       "      <td>0</td>\n",
       "      <td>0</td>\n",
       "    </tr>\n",
       "    <tr>\n",
       "      <th>1</th>\n",
       "      <td>0</td>\n",
       "      <td>1</td>\n",
       "      <td>1</td>\n",
       "      <td>1</td>\n",
       "      <td>0</td>\n",
       "      <td>0</td>\n",
       "    </tr>\n",
       "  </tbody>\n",
       "</table>\n",
       "</div>"
      ],
      "text/plain": [
       "   host_is_superhost  host_has_profile_pic  host_identity_verified  \\\n",
       "0                  0                     1                       0   \n",
       "1                  0                     1                       1   \n",
       "\n",
       "   instant_bookable  require_guest_profile_picture  \\\n",
       "0                 0                              0   \n",
       "1                 1                              0   \n",
       "\n",
       "   require_guest_phone_verification  \n",
       "0                                 0  \n",
       "1                                 0  "
      ]
     },
     "execution_count": 66,
     "metadata": {},
     "output_type": "execute_result"
    }
   ],
   "source": [
    "data[bool_cols] = data[bool_cols].replace({'f':0, 't':1}).astype(int)\n",
    "data[bool_cols].head(2)"
   ]
  },
  {
   "cell_type": "markdown",
   "metadata": {},
   "source": [
    "### Lists\n",
    "\n",
    "This Dataset has two fields that are populated with lists.\n",
    "\n",
    "- **HOST VERIFICATIONS** - Comes up nicely in a stringed list and it is straightforward to transform it into dummy columns using the list2dummies function.\n",
    "- **AMENITIES** - This is comes a bit unformatted. instead of square brackets, it comes with curly. Plus, some amenities do not even have double quotes. So some more processing is needed before using the list2dummies function"
   ]
  },
  {
   "cell_type": "code",
   "execution_count": 67,
   "metadata": {
    "ExecuteTime": {
     "end_time": "2020-02-06T14:44:33.625535Z",
     "start_time": "2020-02-06T14:44:33.616979Z"
    }
   },
   "outputs": [
    {
     "data": {
      "text/plain": [
       "0            ['email', 'phone', 'facebook', 'reviews']\n",
       "1    ['email', 'phone', 'facebook', 'linkedin', 'am...\n",
       "Name: host_verifications, dtype: object"
      ]
     },
     "execution_count": 67,
     "metadata": {},
     "output_type": "execute_result"
    }
   ],
   "source": [
    "data[\"host_verifications\"].head(2)"
   ]
  },
  {
   "cell_type": "code",
   "execution_count": 68,
   "metadata": {
    "ExecuteTime": {
     "end_time": "2020-02-06T14:44:34.505783Z",
     "start_time": "2020-02-06T14:44:33.628800Z"
    }
   },
   "outputs": [
    {
     "data": {
      "text/html": [
       "<div>\n",
       "<style scoped>\n",
       "    .dataframe tbody tr th:only-of-type {\n",
       "        vertical-align: middle;\n",
       "    }\n",
       "\n",
       "    .dataframe tbody tr th {\n",
       "        vertical-align: top;\n",
       "    }\n",
       "\n",
       "    .dataframe thead th {\n",
       "        text-align: right;\n",
       "    }\n",
       "</style>\n",
       "<table border=\"1\" class=\"dataframe\">\n",
       "  <thead>\n",
       "    <tr style=\"text-align: right;\">\n",
       "      <th></th>\n",
       "      <th>host_verifications_amex</th>\n",
       "      <th>host_verifications_email</th>\n",
       "      <th>host_verifications_facebook</th>\n",
       "      <th>host_verifications_google</th>\n",
       "      <th>host_verifications_jumio</th>\n",
       "      <th>host_verifications_kba</th>\n",
       "      <th>host_verifications_linkedin</th>\n",
       "      <th>host_verifications_manual_offline</th>\n",
       "      <th>host_verifications_manual_online</th>\n",
       "      <th>host_verifications_phone</th>\n",
       "      <th>host_verifications_reviews</th>\n",
       "      <th>host_verifications_sent_id</th>\n",
       "      <th>host_verifications_weibo</th>\n",
       "    </tr>\n",
       "  </thead>\n",
       "  <tbody>\n",
       "    <tr>\n",
       "      <th>0</th>\n",
       "      <td>0.0</td>\n",
       "      <td>1.0</td>\n",
       "      <td>1.0</td>\n",
       "      <td>0.0</td>\n",
       "      <td>0.0</td>\n",
       "      <td>0.0</td>\n",
       "      <td>0.0</td>\n",
       "      <td>0.0</td>\n",
       "      <td>0.0</td>\n",
       "      <td>1.0</td>\n",
       "      <td>1.0</td>\n",
       "      <td>0.0</td>\n",
       "      <td>0.0</td>\n",
       "    </tr>\n",
       "    <tr>\n",
       "      <th>1</th>\n",
       "      <td>1.0</td>\n",
       "      <td>1.0</td>\n",
       "      <td>1.0</td>\n",
       "      <td>0.0</td>\n",
       "      <td>1.0</td>\n",
       "      <td>0.0</td>\n",
       "      <td>1.0</td>\n",
       "      <td>0.0</td>\n",
       "      <td>0.0</td>\n",
       "      <td>1.0</td>\n",
       "      <td>1.0</td>\n",
       "      <td>0.0</td>\n",
       "      <td>0.0</td>\n",
       "    </tr>\n",
       "  </tbody>\n",
       "</table>\n",
       "</div>"
      ],
      "text/plain": [
       "   host_verifications_amex  host_verifications_email  \\\n",
       "0                      0.0                       1.0   \n",
       "1                      1.0                       1.0   \n",
       "\n",
       "   host_verifications_facebook  host_verifications_google  \\\n",
       "0                          1.0                        0.0   \n",
       "1                          1.0                        0.0   \n",
       "\n",
       "   host_verifications_jumio  host_verifications_kba  \\\n",
       "0                       0.0                     0.0   \n",
       "1                       1.0                     0.0   \n",
       "\n",
       "   host_verifications_linkedin  host_verifications_manual_offline  \\\n",
       "0                          0.0                                0.0   \n",
       "1                          1.0                                0.0   \n",
       "\n",
       "   host_verifications_manual_online  host_verifications_phone  \\\n",
       "0                               0.0                       1.0   \n",
       "1                               0.0                       1.0   \n",
       "\n",
       "   host_verifications_reviews  host_verifications_sent_id  \\\n",
       "0                         1.0                         0.0   \n",
       "1                         1.0                         0.0   \n",
       "\n",
       "   host_verifications_weibo  \n",
       "0                       0.0  \n",
       "1                       0.0  "
      ]
     },
     "execution_count": 68,
     "metadata": {},
     "output_type": "execute_result"
    }
   ],
   "source": [
    "# Here we are parsing the list of host verifications from a list cast as a string to dummy variables using \n",
    "# the list2dummies function\n",
    "\n",
    "data = pd.concat([data, list2dummies(data.host_verifications, 'host_verifications')], axis=1)\\\n",
    "    .drop('host_verifications', axis=1)\n",
    "data.filter(like='host_verifications').head(2)"
   ]
  },
  {
   "cell_type": "code",
   "execution_count": 69,
   "metadata": {
    "ExecuteTime": {
     "end_time": "2020-02-06T14:44:34.511555Z",
     "start_time": "2020-02-06T14:44:34.507588Z"
    }
   },
   "outputs": [
    {
     "data": {
      "text/plain": [
       "'{TV,\"Wireless Internet\",Kitchen,\"Free Parking on Premises\",\"Pets live on this property\",Dog(s),Heating,\"Family/Kid Friendly\",Washer,Dryer,\"Smoke Detector\",\"Fire Extinguisher\",Essentials,Shampoo,\"Laptop Friendly Workspace\"}'"
      ]
     },
     "execution_count": 69,
     "metadata": {},
     "output_type": "execute_result"
    }
   ],
   "source": [
    "# As we can see, the amenities feature has t be parsed first into a list before using the list2dummies()\n",
    "\n",
    "data[\"amenities\"].iloc[0]"
   ]
  },
  {
   "cell_type": "code",
   "execution_count": 70,
   "metadata": {
    "ExecuteTime": {
     "end_time": "2020-02-06T14:44:35.513318Z",
     "start_time": "2020-02-06T14:44:34.512897Z"
    }
   },
   "outputs": [
    {
     "data": {
      "text/html": [
       "<div>\n",
       "<style scoped>\n",
       "    .dataframe tbody tr th:only-of-type {\n",
       "        vertical-align: middle;\n",
       "    }\n",
       "\n",
       "    .dataframe tbody tr th {\n",
       "        vertical-align: top;\n",
       "    }\n",
       "\n",
       "    .dataframe thead th {\n",
       "        text-align: right;\n",
       "    }\n",
       "</style>\n",
       "<table border=\"1\" class=\"dataframe\">\n",
       "  <thead>\n",
       "    <tr style=\"text-align: right;\">\n",
       "      <th></th>\n",
       "      <th>amenities_</th>\n",
       "      <th>amenities_24-Hour Check-in</th>\n",
       "      <th>amenities_Air Conditioning</th>\n",
       "      <th>amenities_Breakfast</th>\n",
       "      <th>amenities_Buzzer/Wireless Intercom</th>\n",
       "      <th>amenities_Cable TV</th>\n",
       "      <th>amenities_Carbon Monoxide Detector</th>\n",
       "      <th>amenities_Cat(s)</th>\n",
       "      <th>amenities_Dog(s)</th>\n",
       "      <th>amenities_Doorman</th>\n",
       "      <th>amenities_Dryer</th>\n",
       "      <th>amenities_Elevator in Building</th>\n",
       "      <th>amenities_Essentials</th>\n",
       "      <th>amenities_Family/Kid Friendly</th>\n",
       "      <th>amenities_Fire Extinguisher</th>\n",
       "      <th>amenities_First Aid Kit</th>\n",
       "      <th>amenities_Free Parking on Premises</th>\n",
       "      <th>amenities_Free Parking on Street</th>\n",
       "      <th>amenities_Gym</th>\n",
       "      <th>amenities_Hair Dryer</th>\n",
       "      <th>amenities_Hangers</th>\n",
       "      <th>amenities_Heating</th>\n",
       "      <th>amenities_Hot Tub</th>\n",
       "      <th>amenities_Indoor Fireplace</th>\n",
       "      <th>amenities_Internet</th>\n",
       "      <th>amenities_Iron</th>\n",
       "      <th>amenities_Kitchen</th>\n",
       "      <th>amenities_Laptop Friendly Workspace</th>\n",
       "      <th>amenities_Lock on Bedroom Door</th>\n",
       "      <th>amenities_Other pet(s)</th>\n",
       "      <th>amenities_Paid Parking Off Premises</th>\n",
       "      <th>amenities_Pets Allowed</th>\n",
       "      <th>amenities_Pets live on this property</th>\n",
       "      <th>amenities_Pool</th>\n",
       "      <th>amenities_Safety Card</th>\n",
       "      <th>amenities_Shampoo</th>\n",
       "      <th>amenities_Smoke Detector</th>\n",
       "      <th>amenities_Smoking Allowed</th>\n",
       "      <th>amenities_Suitable for Events</th>\n",
       "      <th>amenities_TV</th>\n",
       "      <th>amenities_Washer</th>\n",
       "      <th>amenities_Washer / Dryer</th>\n",
       "      <th>amenities_Wheelchair Accessible</th>\n",
       "      <th>amenities_Wireless Internet</th>\n",
       "      <th>amenities_translation missing: en.hosting_amenity_49</th>\n",
       "      <th>amenities_translation missing: en.hosting_amenity_50</th>\n",
       "    </tr>\n",
       "  </thead>\n",
       "  <tbody>\n",
       "    <tr>\n",
       "      <th>2359</th>\n",
       "      <td>0</td>\n",
       "      <td>0</td>\n",
       "      <td>1</td>\n",
       "      <td>0</td>\n",
       "      <td>1</td>\n",
       "      <td>0</td>\n",
       "      <td>1</td>\n",
       "      <td>0</td>\n",
       "      <td>0</td>\n",
       "      <td>0</td>\n",
       "      <td>1</td>\n",
       "      <td>1</td>\n",
       "      <td>1</td>\n",
       "      <td>0</td>\n",
       "      <td>0</td>\n",
       "      <td>0</td>\n",
       "      <td>0</td>\n",
       "      <td>0</td>\n",
       "      <td>0</td>\n",
       "      <td>0</td>\n",
       "      <td>0</td>\n",
       "      <td>1</td>\n",
       "      <td>0</td>\n",
       "      <td>0</td>\n",
       "      <td>1</td>\n",
       "      <td>0</td>\n",
       "      <td>1</td>\n",
       "      <td>0</td>\n",
       "      <td>0</td>\n",
       "      <td>0</td>\n",
       "      <td>0</td>\n",
       "      <td>0</td>\n",
       "      <td>0</td>\n",
       "      <td>0</td>\n",
       "      <td>0</td>\n",
       "      <td>1</td>\n",
       "      <td>1</td>\n",
       "      <td>0</td>\n",
       "      <td>0</td>\n",
       "      <td>0</td>\n",
       "      <td>1</td>\n",
       "      <td>0</td>\n",
       "      <td>0</td>\n",
       "      <td>1</td>\n",
       "      <td>1</td>\n",
       "      <td>1</td>\n",
       "    </tr>\n",
       "    <tr>\n",
       "      <th>1428</th>\n",
       "      <td>0</td>\n",
       "      <td>1</td>\n",
       "      <td>1</td>\n",
       "      <td>0</td>\n",
       "      <td>1</td>\n",
       "      <td>1</td>\n",
       "      <td>1</td>\n",
       "      <td>0</td>\n",
       "      <td>0</td>\n",
       "      <td>0</td>\n",
       "      <td>1</td>\n",
       "      <td>0</td>\n",
       "      <td>1</td>\n",
       "      <td>1</td>\n",
       "      <td>0</td>\n",
       "      <td>0</td>\n",
       "      <td>0</td>\n",
       "      <td>0</td>\n",
       "      <td>0</td>\n",
       "      <td>1</td>\n",
       "      <td>1</td>\n",
       "      <td>1</td>\n",
       "      <td>0</td>\n",
       "      <td>0</td>\n",
       "      <td>1</td>\n",
       "      <td>1</td>\n",
       "      <td>1</td>\n",
       "      <td>1</td>\n",
       "      <td>0</td>\n",
       "      <td>0</td>\n",
       "      <td>0</td>\n",
       "      <td>0</td>\n",
       "      <td>0</td>\n",
       "      <td>0</td>\n",
       "      <td>0</td>\n",
       "      <td>1</td>\n",
       "      <td>1</td>\n",
       "      <td>0</td>\n",
       "      <td>0</td>\n",
       "      <td>1</td>\n",
       "      <td>1</td>\n",
       "      <td>0</td>\n",
       "      <td>0</td>\n",
       "      <td>1</td>\n",
       "      <td>0</td>\n",
       "      <td>0</td>\n",
       "    </tr>\n",
       "  </tbody>\n",
       "</table>\n",
       "</div>"
      ],
      "text/plain": [
       "      amenities_  amenities_24-Hour Check-in  amenities_Air Conditioning  \\\n",
       "2359           0                           0                           1   \n",
       "1428           0                           1                           1   \n",
       "\n",
       "      amenities_Breakfast  amenities_Buzzer/Wireless Intercom  \\\n",
       "2359                    0                                   1   \n",
       "1428                    0                                   1   \n",
       "\n",
       "      amenities_Cable TV  amenities_Carbon Monoxide Detector  \\\n",
       "2359                   0                                   1   \n",
       "1428                   1                                   1   \n",
       "\n",
       "      amenities_Cat(s)  amenities_Dog(s)  amenities_Doorman  amenities_Dryer  \\\n",
       "2359                 0                 0                  0                1   \n",
       "1428                 0                 0                  0                1   \n",
       "\n",
       "      amenities_Elevator in Building  amenities_Essentials  \\\n",
       "2359                               1                     1   \n",
       "1428                               0                     1   \n",
       "\n",
       "      amenities_Family/Kid Friendly  amenities_Fire Extinguisher  \\\n",
       "2359                              0                            0   \n",
       "1428                              1                            0   \n",
       "\n",
       "      amenities_First Aid Kit  amenities_Free Parking on Premises  \\\n",
       "2359                        0                                   0   \n",
       "1428                        0                                   0   \n",
       "\n",
       "      amenities_Free Parking on Street  amenities_Gym  amenities_Hair Dryer  \\\n",
       "2359                                 0              0                     0   \n",
       "1428                                 0              0                     1   \n",
       "\n",
       "      amenities_Hangers  amenities_Heating  amenities_Hot Tub  \\\n",
       "2359                  0                  1                  0   \n",
       "1428                  1                  1                  0   \n",
       "\n",
       "      amenities_Indoor Fireplace  amenities_Internet  amenities_Iron  \\\n",
       "2359                           0                   1               0   \n",
       "1428                           0                   1               1   \n",
       "\n",
       "      amenities_Kitchen  amenities_Laptop Friendly Workspace  \\\n",
       "2359                  1                                    0   \n",
       "1428                  1                                    1   \n",
       "\n",
       "      amenities_Lock on Bedroom Door  amenities_Other pet(s)  \\\n",
       "2359                               0                       0   \n",
       "1428                               0                       0   \n",
       "\n",
       "      amenities_Paid Parking Off Premises  amenities_Pets Allowed  \\\n",
       "2359                                    0                       0   \n",
       "1428                                    0                       0   \n",
       "\n",
       "      amenities_Pets live on this property  amenities_Pool  \\\n",
       "2359                                     0               0   \n",
       "1428                                     0               0   \n",
       "\n",
       "      amenities_Safety Card  amenities_Shampoo  amenities_Smoke Detector  \\\n",
       "2359                      0                  1                         1   \n",
       "1428                      0                  1                         1   \n",
       "\n",
       "      amenities_Smoking Allowed  amenities_Suitable for Events  amenities_TV  \\\n",
       "2359                          0                              0             0   \n",
       "1428                          0                              0             1   \n",
       "\n",
       "      amenities_Washer  amenities_Washer / Dryer  \\\n",
       "2359                 1                         0   \n",
       "1428                 1                         0   \n",
       "\n",
       "      amenities_Wheelchair Accessible  amenities_Wireless Internet  \\\n",
       "2359                                0                            1   \n",
       "1428                                0                            1   \n",
       "\n",
       "      amenities_translation missing: en.hosting_amenity_49  \\\n",
       "2359                                                  1      \n",
       "1428                                                  0      \n",
       "\n",
       "      amenities_translation missing: en.hosting_amenity_50  \n",
       "2359                                                  1     \n",
       "1428                                                  0     "
      ]
     },
     "execution_count": 70,
     "metadata": {},
     "output_type": "execute_result"
    }
   ],
   "source": [
    "data[\"amenities\"] = parse_amenities(data[\"amenities\"])\n",
    "data = pd.concat([data, list2dummies(data.amenities, 'amenities')], axis=1).drop('amenities', axis=1)\n",
    "data.filter(like='amenities').sample(2)"
   ]
  },
  {
   "cell_type": "code",
   "execution_count": 71,
   "metadata": {
    "ExecuteTime": {
     "end_time": "2020-02-06T14:44:35.518818Z",
     "start_time": "2020-02-06T14:44:35.514800Z"
    }
   },
   "outputs": [],
   "source": [
    "# We can drop some of the dummy feature created since they are either errors or formatting issues.\n",
    "\n",
    "data = data.drop(['amenities_', \n",
    "                  'amenities_translation missing: en.hosting_amenity_49', \n",
    "                  'amenities_translation missing: en.hosting_amenity_50'], axis=1)"
   ]
  },
  {
   "cell_type": "markdown",
   "metadata": {},
   "source": [
    "### Currency\n",
    "\n",
    "Currency data is also as type string and needs to be parsed into a double or float. Therefore the dollar sign (**$**) needs to be removed and the comma, representing thousands also needs to be removed"
   ]
  },
  {
   "cell_type": "code",
   "execution_count": 72,
   "metadata": {
    "ExecuteTime": {
     "end_time": "2020-02-06T14:44:35.539408Z",
     "start_time": "2020-02-06T14:44:35.520058Z"
    }
   },
   "outputs": [
    {
     "data": {
      "text/html": [
       "<div>\n",
       "<style scoped>\n",
       "    .dataframe tbody tr th:only-of-type {\n",
       "        vertical-align: middle;\n",
       "    }\n",
       "\n",
       "    .dataframe tbody tr th {\n",
       "        vertical-align: top;\n",
       "    }\n",
       "\n",
       "    .dataframe thead th {\n",
       "        text-align: right;\n",
       "    }\n",
       "</style>\n",
       "<table border=\"1\" class=\"dataframe\">\n",
       "  <thead>\n",
       "    <tr style=\"text-align: right;\">\n",
       "      <th></th>\n",
       "      <th>price</th>\n",
       "      <th>cleaning_fee</th>\n",
       "      <th>extra_people</th>\n",
       "    </tr>\n",
       "  </thead>\n",
       "  <tbody>\n",
       "    <tr>\n",
       "      <th>2602</th>\n",
       "      <td>$65.00</td>\n",
       "      <td>NaN</td>\n",
       "      <td>$10.00</td>\n",
       "    </tr>\n",
       "    <tr>\n",
       "      <th>5</th>\n",
       "      <td>$75.00</td>\n",
       "      <td>$30.00</td>\n",
       "      <td>$0.00</td>\n",
       "    </tr>\n",
       "    <tr>\n",
       "      <th>991</th>\n",
       "      <td>$125.00</td>\n",
       "      <td>$45.00</td>\n",
       "      <td>$0.00</td>\n",
       "    </tr>\n",
       "    <tr>\n",
       "      <th>2711</th>\n",
       "      <td>$100.00</td>\n",
       "      <td>NaN</td>\n",
       "      <td>$0.00</td>\n",
       "    </tr>\n",
       "    <tr>\n",
       "      <th>1256</th>\n",
       "      <td>$251.00</td>\n",
       "      <td>NaN</td>\n",
       "      <td>$0.00</td>\n",
       "    </tr>\n",
       "  </tbody>\n",
       "</table>\n",
       "</div>"
      ],
      "text/plain": [
       "        price cleaning_fee extra_people\n",
       "2602   $65.00          NaN       $10.00\n",
       "5      $75.00       $30.00        $0.00\n",
       "991   $125.00       $45.00        $0.00\n",
       "2711  $100.00          NaN        $0.00\n",
       "1256  $251.00          NaN        $0.00"
      ]
     },
     "execution_count": 72,
     "metadata": {},
     "output_type": "execute_result"
    }
   ],
   "source": [
    "currency_cols = [\"price\", \"cleaning_fee\", \"extra_people\"] \n",
    "\n",
    "data[currency_cols].sample(5)"
   ]
  },
  {
   "cell_type": "code",
   "execution_count": 73,
   "metadata": {
    "ExecuteTime": {
     "end_time": "2020-02-06T14:44:35.564892Z",
     "start_time": "2020-02-06T14:44:35.540778Z"
    }
   },
   "outputs": [
    {
     "data": {
      "text/html": [
       "<div>\n",
       "<style scoped>\n",
       "    .dataframe tbody tr th:only-of-type {\n",
       "        vertical-align: middle;\n",
       "    }\n",
       "\n",
       "    .dataframe tbody tr th {\n",
       "        vertical-align: top;\n",
       "    }\n",
       "\n",
       "    .dataframe thead th {\n",
       "        text-align: right;\n",
       "    }\n",
       "</style>\n",
       "<table border=\"1\" class=\"dataframe\">\n",
       "  <thead>\n",
       "    <tr style=\"text-align: right;\">\n",
       "      <th></th>\n",
       "      <th>price</th>\n",
       "      <th>cleaning_fee</th>\n",
       "      <th>extra_people</th>\n",
       "    </tr>\n",
       "  </thead>\n",
       "  <tbody>\n",
       "    <tr>\n",
       "      <th>1753</th>\n",
       "      <td>150.0</td>\n",
       "      <td>NaN</td>\n",
       "      <td>0.0</td>\n",
       "    </tr>\n",
       "    <tr>\n",
       "      <th>595</th>\n",
       "      <td>209.0</td>\n",
       "      <td>100.0</td>\n",
       "      <td>0.0</td>\n",
       "    </tr>\n",
       "  </tbody>\n",
       "</table>\n",
       "</div>"
      ],
      "text/plain": [
       "      price  cleaning_fee  extra_people\n",
       "1753  150.0           NaN           0.0\n",
       "595   209.0         100.0           0.0"
      ]
     },
     "execution_count": 73,
     "metadata": {},
     "output_type": "execute_result"
    }
   ],
   "source": [
    "# parse_prices() removes the dollar sign and comma\n",
    "\n",
    "data = parse_prices(data, currency_cols)\n",
    "data[currency_cols].sample(2)"
   ]
  },
  {
   "cell_type": "markdown",
   "metadata": {
    "slideshow": {
     "slide_type": "slide"
    }
   },
   "source": [
    "## Imputation and Treating Missing Vaues\n",
    "\n",
    "Some of the columns have missing variables that need to be dealt with."
   ]
  },
  {
   "cell_type": "code",
   "execution_count": 74,
   "metadata": {
    "ExecuteTime": {
     "end_time": "2020-02-06T14:44:35.580397Z",
     "start_time": "2020-02-06T14:44:35.566818Z"
    }
   },
   "outputs": [
    {
     "name": "stdout",
     "output_type": "stream",
     "text": [
      "<class 'pandas.core.frame.DataFrame'>\n",
      "Int64Index: 3585 entries, 0 to 3584\n",
      "Data columns (total 50 columns):\n",
      "id                                  3585 non-null int64\n",
      "last_scraped                        3585 non-null datetime64[ns]\n",
      "host_id                             3585 non-null int64\n",
      "host_name                           3585 non-null object\n",
      "host_since                          3585 non-null datetime64[ns]\n",
      "host_response_time                  3114 non-null object\n",
      "host_response_rate                  3114 non-null float64\n",
      "host_acceptance_rate                3114 non-null float64\n",
      "host_is_superhost                   3585 non-null int64\n",
      "host_listings_count                 3585 non-null int64\n",
      "host_has_profile_pic                3585 non-null int64\n",
      "host_identity_verified              3585 non-null int64\n",
      "street                              3585 non-null object\n",
      "neighbourhood_cleansed              3585 non-null object\n",
      "zipcode                             3547 non-null object\n",
      "latitude                            3585 non-null float64\n",
      "longitude                           3585 non-null float64\n",
      "property_type                       3582 non-null object\n",
      "room_type                           3585 non-null object\n",
      "accommodates                        3585 non-null int64\n",
      "bathrooms                           3571 non-null float64\n",
      "bedrooms                            3575 non-null float64\n",
      "beds                                3576 non-null float64\n",
      "bed_type                            3585 non-null object\n",
      "square_feet                         56 non-null float64\n",
      "price                               3585 non-null float64\n",
      "cleaning_fee                        2478 non-null float64\n",
      "guests_included                     3585 non-null int64\n",
      "extra_people                        3585 non-null float64\n",
      "minimum_nights                      3585 non-null int64\n",
      "maximum_nights                      3585 non-null int64\n",
      "availability_30                     3585 non-null int64\n",
      "availability_60                     3585 non-null int64\n",
      "availability_90                     3585 non-null int64\n",
      "availability_365                    3585 non-null int64\n",
      "number_of_reviews                   3585 non-null int64\n",
      "first_review                        2829 non-null datetime64[ns]\n",
      "last_review                         2829 non-null datetime64[ns]\n",
      "review_scores_rating                2772 non-null float64\n",
      "review_scores_accuracy              2762 non-null float64\n",
      "review_scores_cleanliness           2767 non-null float64\n",
      "review_scores_checkin               2765 non-null float64\n",
      "review_scores_communication         2767 non-null float64\n",
      "review_scores_location              2763 non-null float64\n",
      "review_scores_value                 2764 non-null float64\n",
      "instant_bookable                    3585 non-null int64\n",
      "cancellation_policy                 3585 non-null object\n",
      "require_guest_profile_picture       3585 non-null int64\n",
      "require_guest_phone_verification    3585 non-null int64\n",
      "reviews_per_month                   2829 non-null float64\n",
      "dtypes: datetime64[ns](4), float64(19), int64(18), object(9)\n",
      "memory usage: 1.6+ MB\n"
     ]
    }
   ],
   "source": [
    "# info about first 50 columns (info about all returns nothing)\n",
    "data.iloc[:, 0:50].info()"
   ]
  },
  {
   "cell_type": "code",
   "execution_count": 75,
   "metadata": {
    "ExecuteTime": {
     "end_time": "2020-02-06T14:44:35.593762Z",
     "start_time": "2020-02-06T14:44:35.581929Z"
    }
   },
   "outputs": [
    {
     "name": "stdout",
     "output_type": "stream",
     "text": [
      "<class 'pandas.core.frame.DataFrame'>\n",
      "Int64Index: 3585 entries, 0 to 3584\n",
      "Data columns (total 56 columns):\n",
      "host_verifications_amex                 3584 non-null float64\n",
      "host_verifications_email                3584 non-null float64\n",
      "host_verifications_facebook             3584 non-null float64\n",
      "host_verifications_google               3584 non-null float64\n",
      "host_verifications_jumio                3584 non-null float64\n",
      "host_verifications_kba                  3584 non-null float64\n",
      "host_verifications_linkedin             3584 non-null float64\n",
      "host_verifications_manual_offline       3584 non-null float64\n",
      "host_verifications_manual_online        3584 non-null float64\n",
      "host_verifications_phone                3584 non-null float64\n",
      "host_verifications_reviews              3584 non-null float64\n",
      "host_verifications_sent_id              3584 non-null float64\n",
      "host_verifications_weibo                3584 non-null float64\n",
      "amenities_24-Hour Check-in              3585 non-null int64\n",
      "amenities_Air Conditioning              3585 non-null int64\n",
      "amenities_Breakfast                     3585 non-null int64\n",
      "amenities_Buzzer/Wireless Intercom      3585 non-null int64\n",
      "amenities_Cable TV                      3585 non-null int64\n",
      "amenities_Carbon Monoxide Detector      3585 non-null int64\n",
      "amenities_Cat(s)                        3585 non-null int64\n",
      "amenities_Dog(s)                        3585 non-null int64\n",
      "amenities_Doorman                       3585 non-null int64\n",
      "amenities_Dryer                         3585 non-null int64\n",
      "amenities_Elevator in Building          3585 non-null int64\n",
      "amenities_Essentials                    3585 non-null int64\n",
      "amenities_Family/Kid Friendly           3585 non-null int64\n",
      "amenities_Fire Extinguisher             3585 non-null int64\n",
      "amenities_First Aid Kit                 3585 non-null int64\n",
      "amenities_Free Parking on Premises      3585 non-null int64\n",
      "amenities_Free Parking on Street        3585 non-null int64\n",
      "amenities_Gym                           3585 non-null int64\n",
      "amenities_Hair Dryer                    3585 non-null int64\n",
      "amenities_Hangers                       3585 non-null int64\n",
      "amenities_Heating                       3585 non-null int64\n",
      "amenities_Hot Tub                       3585 non-null int64\n",
      "amenities_Indoor Fireplace              3585 non-null int64\n",
      "amenities_Internet                      3585 non-null int64\n",
      "amenities_Iron                          3585 non-null int64\n",
      "amenities_Kitchen                       3585 non-null int64\n",
      "amenities_Laptop Friendly Workspace     3585 non-null int64\n",
      "amenities_Lock on Bedroom Door          3585 non-null int64\n",
      "amenities_Other pet(s)                  3585 non-null int64\n",
      "amenities_Paid Parking Off Premises     3585 non-null int64\n",
      "amenities_Pets Allowed                  3585 non-null int64\n",
      "amenities_Pets live on this property    3585 non-null int64\n",
      "amenities_Pool                          3585 non-null int64\n",
      "amenities_Safety Card                   3585 non-null int64\n",
      "amenities_Shampoo                       3585 non-null int64\n",
      "amenities_Smoke Detector                3585 non-null int64\n",
      "amenities_Smoking Allowed               3585 non-null int64\n",
      "amenities_Suitable for Events           3585 non-null int64\n",
      "amenities_TV                            3585 non-null int64\n",
      "amenities_Washer                        3585 non-null int64\n",
      "amenities_Washer / Dryer                3585 non-null int64\n",
      "amenities_Wheelchair Accessible         3585 non-null int64\n",
      "amenities_Wireless Internet             3585 non-null int64\n",
      "dtypes: float64(13), int64(43)\n",
      "memory usage: 1.7 MB\n"
     ]
    }
   ],
   "source": [
    "# info about first 50 columns (info about all returns nothing)\n",
    "data.iloc[:, 50::].info()"
   ]
  },
  {
   "cell_type": "markdown",
   "metadata": {},
   "source": [
    "##### Columns with Values Missing"
   ]
  },
  {
   "cell_type": "code",
   "execution_count": 76,
   "metadata": {
    "ExecuteTime": {
     "end_time": "2020-02-06T14:44:35.601687Z",
     "start_time": "2020-02-06T14:44:35.595014Z"
    }
   },
   "outputs": [
    {
     "data": {
      "text/plain": [
       "Index(['host_response_time', 'host_response_rate', 'host_acceptance_rate',\n",
       "       'zipcode', 'property_type', 'bathrooms', 'bedrooms', 'beds',\n",
       "       'square_feet', 'cleaning_fee', 'first_review', 'last_review',\n",
       "       'review_scores_rating', 'review_scores_accuracy',\n",
       "       'review_scores_cleanliness', 'review_scores_checkin',\n",
       "       'review_scores_communication', 'review_scores_location',\n",
       "       'review_scores_value', 'reviews_per_month', 'host_verifications_amex',\n",
       "       'host_verifications_email', 'host_verifications_facebook',\n",
       "       'host_verifications_google', 'host_verifications_jumio',\n",
       "       'host_verifications_kba', 'host_verifications_linkedin',\n",
       "       'host_verifications_manual_offline', 'host_verifications_manual_online',\n",
       "       'host_verifications_phone', 'host_verifications_reviews',\n",
       "       'host_verifications_sent_id', 'host_verifications_weibo'],\n",
       "      dtype='object')"
      ]
     },
     "execution_count": 76,
     "metadata": {},
     "output_type": "execute_result"
    }
   ],
   "source": [
    "data.columns[data.isna().sum() > 0]"
   ]
  },
  {
   "cell_type": "markdown",
   "metadata": {},
   "source": [
    "##### Columns with 75% Missing"
   ]
  },
  {
   "cell_type": "code",
   "execution_count": 77,
   "metadata": {
    "ExecuteTime": {
     "end_time": "2020-02-06T14:44:35.609593Z",
     "start_time": "2020-02-06T14:44:35.602889Z"
    }
   },
   "outputs": [
    {
     "data": {
      "text/plain": [
       "Index(['square_feet'], dtype='object')"
      ]
     },
     "execution_count": 77,
     "metadata": {},
     "output_type": "execute_result"
    }
   ],
   "source": [
    "data.columns[data.isna().sum()/data.shape[0] > 0.75]"
   ]
  },
  {
   "cell_type": "code",
   "execution_count": 78,
   "metadata": {
    "ExecuteTime": {
     "end_time": "2020-02-06T14:44:35.615533Z",
     "start_time": "2020-02-06T14:44:35.610716Z"
    }
   },
   "outputs": [],
   "source": [
    "# The square footage feature has more than 75% of its values missing so it will not be useful for analysis. \n",
    "# We then drop it.\n",
    "\n",
    "data = data.drop('square_feet', axis=1)"
   ]
  },
  {
   "cell_type": "markdown",
   "metadata": {},
   "source": [
    "### Host Response Time, Rate and Acceptance Rate\n",
    "\n",
    "Some hosts are pretty new so they might have not had the chance to reply or accept to other users staying at their property.\n",
    "To solve this:\n",
    "\n",
    "- **HOST RESPONSE TIME** - Type: STRING. Since it is categorical we fill it with a string \"Never\"\n",
    "- **HOST RESPONSE RATE** - Type: FLOAT. Since it is a numerical variable we can set the None values to zero.\n",
    "- **HOST ACCEPTANCE RATE** - Type: FLOAT. Since it is a numerical variable we can set the None values to zero.\n",
    "\n",
    "Note that it is possible for a Host to never have replied but declined the offer and so the acceptance will be 0 and not NaN."
   ]
  },
  {
   "cell_type": "code",
   "execution_count": 79,
   "metadata": {
    "ExecuteTime": {
     "end_time": "2020-02-06T14:44:35.627262Z",
     "start_time": "2020-02-06T14:44:35.616676Z"
    }
   },
   "outputs": [
    {
     "data": {
      "text/html": [
       "<div>\n",
       "<style scoped>\n",
       "    .dataframe tbody tr th:only-of-type {\n",
       "        vertical-align: middle;\n",
       "    }\n",
       "\n",
       "    .dataframe tbody tr th {\n",
       "        vertical-align: top;\n",
       "    }\n",
       "\n",
       "    .dataframe thead th {\n",
       "        text-align: right;\n",
       "    }\n",
       "</style>\n",
       "<table border=\"1\" class=\"dataframe\">\n",
       "  <thead>\n",
       "    <tr style=\"text-align: right;\">\n",
       "      <th></th>\n",
       "      <th>host_response_time</th>\n",
       "      <th>host_response_rate</th>\n",
       "      <th>host_acceptance_rate</th>\n",
       "    </tr>\n",
       "  </thead>\n",
       "  <tbody>\n",
       "    <tr>\n",
       "      <th>0</th>\n",
       "      <td>NaN</td>\n",
       "      <td>NaN</td>\n",
       "      <td>NaN</td>\n",
       "    </tr>\n",
       "    <tr>\n",
       "      <th>1</th>\n",
       "      <td>within an hour</td>\n",
       "      <td>1.0</td>\n",
       "      <td>1.00</td>\n",
       "    </tr>\n",
       "    <tr>\n",
       "      <th>2</th>\n",
       "      <td>within a few hours</td>\n",
       "      <td>1.0</td>\n",
       "      <td>0.88</td>\n",
       "    </tr>\n",
       "    <tr>\n",
       "      <th>3</th>\n",
       "      <td>within a few hours</td>\n",
       "      <td>1.0</td>\n",
       "      <td>0.50</td>\n",
       "    </tr>\n",
       "    <tr>\n",
       "      <th>4</th>\n",
       "      <td>within an hour</td>\n",
       "      <td>1.0</td>\n",
       "      <td>1.00</td>\n",
       "    </tr>\n",
       "  </tbody>\n",
       "</table>\n",
       "</div>"
      ],
      "text/plain": [
       "   host_response_time  host_response_rate  host_acceptance_rate\n",
       "0                 NaN                 NaN                   NaN\n",
       "1      within an hour                 1.0                  1.00\n",
       "2  within a few hours                 1.0                  0.88\n",
       "3  within a few hours                 1.0                  0.50\n",
       "4      within an hour                 1.0                  1.00"
      ]
     },
     "execution_count": 79,
     "metadata": {},
     "output_type": "execute_result"
    }
   ],
   "source": [
    "data.loc[:, [\"host_response_time\", \"host_response_rate\", \"host_acceptance_rate\"]].head()"
   ]
  },
  {
   "cell_type": "code",
   "execution_count": 80,
   "metadata": {
    "ExecuteTime": {
     "end_time": "2020-02-06T14:44:35.636298Z",
     "start_time": "2020-02-06T14:44:35.628452Z"
    }
   },
   "outputs": [],
   "source": [
    "data.loc[:, \"host_response_time\"] = data.loc[:, \"host_response_time\"].fillna('Never')\n",
    "\n",
    "data.loc[:, [\"host_response_rate\", \"host_acceptance_rate\"]] = \\\n",
    "    data.loc[:, [\"host_response_rate\", \"host_acceptance_rate\"]].fillna(0)"
   ]
  },
  {
   "cell_type": "code",
   "execution_count": 81,
   "metadata": {
    "ExecuteTime": {
     "end_time": "2020-02-06T14:44:35.653539Z",
     "start_time": "2020-02-06T14:44:35.637625Z"
    }
   },
   "outputs": [
    {
     "data": {
      "text/html": [
       "<div>\n",
       "<style scoped>\n",
       "    .dataframe tbody tr th:only-of-type {\n",
       "        vertical-align: middle;\n",
       "    }\n",
       "\n",
       "    .dataframe tbody tr th {\n",
       "        vertical-align: top;\n",
       "    }\n",
       "\n",
       "    .dataframe thead th {\n",
       "        text-align: right;\n",
       "    }\n",
       "</style>\n",
       "<table border=\"1\" class=\"dataframe\">\n",
       "  <thead>\n",
       "    <tr style=\"text-align: right;\">\n",
       "      <th></th>\n",
       "      <th>host_response_time</th>\n",
       "      <th>host_response_rate</th>\n",
       "      <th>host_acceptance_rate</th>\n",
       "    </tr>\n",
       "  </thead>\n",
       "  <tbody>\n",
       "    <tr>\n",
       "      <th>0</th>\n",
       "      <td>Never</td>\n",
       "      <td>0.0</td>\n",
       "      <td>0.00</td>\n",
       "    </tr>\n",
       "    <tr>\n",
       "      <th>1</th>\n",
       "      <td>within an hour</td>\n",
       "      <td>1.0</td>\n",
       "      <td>1.00</td>\n",
       "    </tr>\n",
       "    <tr>\n",
       "      <th>2</th>\n",
       "      <td>within a few hours</td>\n",
       "      <td>1.0</td>\n",
       "      <td>0.88</td>\n",
       "    </tr>\n",
       "    <tr>\n",
       "      <th>3</th>\n",
       "      <td>within a few hours</td>\n",
       "      <td>1.0</td>\n",
       "      <td>0.50</td>\n",
       "    </tr>\n",
       "    <tr>\n",
       "      <th>4</th>\n",
       "      <td>within an hour</td>\n",
       "      <td>1.0</td>\n",
       "      <td>1.00</td>\n",
       "    </tr>\n",
       "  </tbody>\n",
       "</table>\n",
       "</div>"
      ],
      "text/plain": [
       "   host_response_time  host_response_rate  host_acceptance_rate\n",
       "0               Never                 0.0                  0.00\n",
       "1      within an hour                 1.0                  1.00\n",
       "2  within a few hours                 1.0                  0.88\n",
       "3  within a few hours                 1.0                  0.50\n",
       "4      within an hour                 1.0                  1.00"
      ]
     },
     "execution_count": 81,
     "metadata": {},
     "output_type": "execute_result"
    }
   ],
   "source": [
    "data.loc[:, [\"host_response_time\", \"host_response_rate\", \"host_acceptance_rate\"]].head()"
   ]
  },
  {
   "cell_type": "markdown",
   "metadata": {},
   "source": [
    "### Zipcode\n",
    "\n",
    "Some Zipcodes are missing. We cannot get them from the street value and since we have a neighbourhood field, which as a similar granularity, I opted to drop this columns"
   ]
  },
  {
   "cell_type": "code",
   "execution_count": 82,
   "metadata": {
    "ExecuteTime": {
     "end_time": "2020-02-06T14:44:35.665004Z",
     "start_time": "2020-02-06T14:44:35.654872Z"
    }
   },
   "outputs": [
    {
     "data": {
      "text/html": [
       "<div>\n",
       "<style scoped>\n",
       "    .dataframe tbody tr th:only-of-type {\n",
       "        vertical-align: middle;\n",
       "    }\n",
       "\n",
       "    .dataframe tbody tr th {\n",
       "        vertical-align: top;\n",
       "    }\n",
       "\n",
       "    .dataframe thead th {\n",
       "        text-align: right;\n",
       "    }\n",
       "</style>\n",
       "<table border=\"1\" class=\"dataframe\">\n",
       "  <thead>\n",
       "    <tr style=\"text-align: right;\">\n",
       "      <th></th>\n",
       "      <th>street</th>\n",
       "      <th>neighbourhood_cleansed</th>\n",
       "      <th>zipcode</th>\n",
       "    </tr>\n",
       "  </thead>\n",
       "  <tbody>\n",
       "    <tr>\n",
       "      <th>3</th>\n",
       "      <td>Boston, MA, United States</td>\n",
       "      <td>Roslindale</td>\n",
       "      <td>NaN</td>\n",
       "    </tr>\n",
       "    <tr>\n",
       "      <th>94</th>\n",
       "      <td>Brookline, MA, United States</td>\n",
       "      <td>Jamaica Plain</td>\n",
       "      <td>NaN</td>\n",
       "    </tr>\n",
       "    <tr>\n",
       "      <th>162</th>\n",
       "      <td>Boston, MA, United States</td>\n",
       "      <td>Jamaica Plain</td>\n",
       "      <td>NaN</td>\n",
       "    </tr>\n",
       "    <tr>\n",
       "      <th>226</th>\n",
       "      <td>Boston, MA, United States</td>\n",
       "      <td>Jamaica Plain</td>\n",
       "      <td>NaN</td>\n",
       "    </tr>\n",
       "    <tr>\n",
       "      <th>494</th>\n",
       "      <td>Boston, MA, United States</td>\n",
       "      <td>Mission Hill</td>\n",
       "      <td>NaN</td>\n",
       "    </tr>\n",
       "  </tbody>\n",
       "</table>\n",
       "</div>"
      ],
      "text/plain": [
       "                           street neighbourhood_cleansed zipcode\n",
       "3       Boston, MA, United States             Roslindale     NaN\n",
       "94   Brookline, MA, United States          Jamaica Plain     NaN\n",
       "162     Boston, MA, United States          Jamaica Plain     NaN\n",
       "226     Boston, MA, United States          Jamaica Plain     NaN\n",
       "494     Boston, MA, United States           Mission Hill     NaN"
      ]
     },
     "execution_count": 82,
     "metadata": {},
     "output_type": "execute_result"
    }
   ],
   "source": [
    "data[data.zipcode.isna()][[\"street\", \"neighbourhood_cleansed\", \"zipcode\"]].head()"
   ]
  },
  {
   "cell_type": "code",
   "execution_count": 83,
   "metadata": {
    "ExecuteTime": {
     "end_time": "2020-02-06T14:44:35.671698Z",
     "start_time": "2020-02-06T14:44:35.666232Z"
    }
   },
   "outputs": [
    {
     "data": {
      "text/plain": [
       "neighbourhood_cleansed\n",
       "Allston                    9\n",
       "Downtown                   9\n",
       "Beacon Hill                7\n",
       "Roxbury                    7\n",
       "Dorchester                 7\n",
       "Back Bay                   6\n",
       "Brighton                   6\n",
       "Mission Hill               5\n",
       "West Roxbury               5\n",
       "North End                  5\n",
       "South End                  5\n",
       "Charlestown                4\n",
       "Jamaica Plain              4\n",
       "Mattapan                   3\n",
       "Hyde Park                  3\n",
       "Fenway                     3\n",
       "Longwood Medical Area      2\n",
       "West End                   2\n",
       "Chinatown                  2\n",
       "South Boston               2\n",
       "South Boston Waterfront    2\n",
       "Leather District           1\n",
       "East Boston                1\n",
       "Roslindale                 1\n",
       "Bay Village                1\n",
       "Name: zipcode, dtype: int64"
      ]
     },
     "execution_count": 83,
     "metadata": {},
     "output_type": "execute_result"
    }
   ],
   "source": [
    "# Neighbourhoods can have different zipcodes\n",
    "data.groupby('neighbourhood_cleansed').zipcode.nunique().sort_values(ascending=False)"
   ]
  },
  {
   "cell_type": "code",
   "execution_count": 84,
   "metadata": {
    "ExecuteTime": {
     "end_time": "2020-02-06T14:44:35.678520Z",
     "start_time": "2020-02-06T14:44:35.672866Z"
    }
   },
   "outputs": [],
   "source": [
    "# Since we have several different columns to give us a location of the listing (Neighbourhood is \n",
    "# about the same granularity and better for user readability), and since it is not extremely essential \n",
    "# for the business question, I am going to drop this column.\n",
    "\n",
    "data  = data.drop('zipcode', axis=1)"
   ]
  },
  {
   "cell_type": "markdown",
   "metadata": {},
   "source": [
    "### Property Type\n",
    "\n",
    "There are only 3 missing **property_types** and so it is reasonable to make them as **Other** Category"
   ]
  },
  {
   "cell_type": "code",
   "execution_count": 85,
   "metadata": {
    "ExecuteTime": {
     "end_time": "2020-02-06T14:44:35.737066Z",
     "start_time": "2020-02-06T14:44:35.680128Z"
    }
   },
   "outputs": [
    {
     "data": {
      "text/html": [
       "<div>\n",
       "<style scoped>\n",
       "    .dataframe tbody tr th:only-of-type {\n",
       "        vertical-align: middle;\n",
       "    }\n",
       "\n",
       "    .dataframe tbody tr th {\n",
       "        vertical-align: top;\n",
       "    }\n",
       "\n",
       "    .dataframe thead th {\n",
       "        text-align: right;\n",
       "    }\n",
       "</style>\n",
       "<table border=\"1\" class=\"dataframe\">\n",
       "  <thead>\n",
       "    <tr style=\"text-align: right;\">\n",
       "      <th></th>\n",
       "      <th>id</th>\n",
       "      <th>last_scraped</th>\n",
       "      <th>host_id</th>\n",
       "      <th>host_name</th>\n",
       "      <th>host_since</th>\n",
       "      <th>host_response_time</th>\n",
       "      <th>host_response_rate</th>\n",
       "      <th>host_acceptance_rate</th>\n",
       "      <th>host_is_superhost</th>\n",
       "      <th>host_listings_count</th>\n",
       "      <th>host_has_profile_pic</th>\n",
       "      <th>host_identity_verified</th>\n",
       "      <th>street</th>\n",
       "      <th>neighbourhood_cleansed</th>\n",
       "      <th>latitude</th>\n",
       "      <th>longitude</th>\n",
       "      <th>property_type</th>\n",
       "      <th>room_type</th>\n",
       "      <th>accommodates</th>\n",
       "      <th>bathrooms</th>\n",
       "      <th>bedrooms</th>\n",
       "      <th>beds</th>\n",
       "      <th>bed_type</th>\n",
       "      <th>price</th>\n",
       "      <th>cleaning_fee</th>\n",
       "      <th>guests_included</th>\n",
       "      <th>extra_people</th>\n",
       "      <th>minimum_nights</th>\n",
       "      <th>maximum_nights</th>\n",
       "      <th>availability_30</th>\n",
       "      <th>availability_60</th>\n",
       "      <th>availability_90</th>\n",
       "      <th>availability_365</th>\n",
       "      <th>number_of_reviews</th>\n",
       "      <th>first_review</th>\n",
       "      <th>last_review</th>\n",
       "      <th>review_scores_rating</th>\n",
       "      <th>review_scores_accuracy</th>\n",
       "      <th>review_scores_cleanliness</th>\n",
       "      <th>review_scores_checkin</th>\n",
       "      <th>review_scores_communication</th>\n",
       "      <th>review_scores_location</th>\n",
       "      <th>review_scores_value</th>\n",
       "      <th>instant_bookable</th>\n",
       "      <th>cancellation_policy</th>\n",
       "      <th>require_guest_profile_picture</th>\n",
       "      <th>require_guest_phone_verification</th>\n",
       "      <th>reviews_per_month</th>\n",
       "      <th>host_verifications_amex</th>\n",
       "      <th>host_verifications_email</th>\n",
       "      <th>host_verifications_facebook</th>\n",
       "      <th>host_verifications_google</th>\n",
       "      <th>host_verifications_jumio</th>\n",
       "      <th>host_verifications_kba</th>\n",
       "      <th>host_verifications_linkedin</th>\n",
       "      <th>host_verifications_manual_offline</th>\n",
       "      <th>host_verifications_manual_online</th>\n",
       "      <th>host_verifications_phone</th>\n",
       "      <th>host_verifications_reviews</th>\n",
       "      <th>host_verifications_sent_id</th>\n",
       "      <th>host_verifications_weibo</th>\n",
       "      <th>amenities_24-Hour Check-in</th>\n",
       "      <th>amenities_Air Conditioning</th>\n",
       "      <th>amenities_Breakfast</th>\n",
       "      <th>amenities_Buzzer/Wireless Intercom</th>\n",
       "      <th>amenities_Cable TV</th>\n",
       "      <th>amenities_Carbon Monoxide Detector</th>\n",
       "      <th>amenities_Cat(s)</th>\n",
       "      <th>amenities_Dog(s)</th>\n",
       "      <th>amenities_Doorman</th>\n",
       "      <th>amenities_Dryer</th>\n",
       "      <th>amenities_Elevator in Building</th>\n",
       "      <th>amenities_Essentials</th>\n",
       "      <th>amenities_Family/Kid Friendly</th>\n",
       "      <th>amenities_Fire Extinguisher</th>\n",
       "      <th>amenities_First Aid Kit</th>\n",
       "      <th>amenities_Free Parking on Premises</th>\n",
       "      <th>amenities_Free Parking on Street</th>\n",
       "      <th>amenities_Gym</th>\n",
       "      <th>amenities_Hair Dryer</th>\n",
       "      <th>amenities_Hangers</th>\n",
       "      <th>amenities_Heating</th>\n",
       "      <th>amenities_Hot Tub</th>\n",
       "      <th>amenities_Indoor Fireplace</th>\n",
       "      <th>amenities_Internet</th>\n",
       "      <th>amenities_Iron</th>\n",
       "      <th>amenities_Kitchen</th>\n",
       "      <th>amenities_Laptop Friendly Workspace</th>\n",
       "      <th>amenities_Lock on Bedroom Door</th>\n",
       "      <th>amenities_Other pet(s)</th>\n",
       "      <th>amenities_Paid Parking Off Premises</th>\n",
       "      <th>amenities_Pets Allowed</th>\n",
       "      <th>amenities_Pets live on this property</th>\n",
       "      <th>amenities_Pool</th>\n",
       "      <th>amenities_Safety Card</th>\n",
       "      <th>amenities_Shampoo</th>\n",
       "      <th>amenities_Smoke Detector</th>\n",
       "      <th>amenities_Smoking Allowed</th>\n",
       "      <th>amenities_Suitable for Events</th>\n",
       "      <th>amenities_TV</th>\n",
       "      <th>amenities_Washer</th>\n",
       "      <th>amenities_Washer / Dryer</th>\n",
       "      <th>amenities_Wheelchair Accessible</th>\n",
       "      <th>amenities_Wireless Internet</th>\n",
       "    </tr>\n",
       "  </thead>\n",
       "  <tbody>\n",
       "    <tr>\n",
       "      <th>1321</th>\n",
       "      <td>7731797</td>\n",
       "      <td>2016-09-07</td>\n",
       "      <td>12243051</td>\n",
       "      <td>Flatbook</td>\n",
       "      <td>2014-02-14</td>\n",
       "      <td>within a few hours</td>\n",
       "      <td>0.71</td>\n",
       "      <td>0.98</td>\n",
       "      <td>0</td>\n",
       "      <td>363</td>\n",
       "      <td>1</td>\n",
       "      <td>1</td>\n",
       "      <td>Newbury Street, Boston, MA 02116, United States</td>\n",
       "      <td>Back Bay</td>\n",
       "      <td>42.349350</td>\n",
       "      <td>-71.082488</td>\n",
       "      <td>NaN</td>\n",
       "      <td>Entire home/apt</td>\n",
       "      <td>2</td>\n",
       "      <td>1.0</td>\n",
       "      <td>0.0</td>\n",
       "      <td>1.0</td>\n",
       "      <td>Real Bed</td>\n",
       "      <td>199.0</td>\n",
       "      <td>75.0</td>\n",
       "      <td>2</td>\n",
       "      <td>10.0</td>\n",
       "      <td>3</td>\n",
       "      <td>1125</td>\n",
       "      <td>16</td>\n",
       "      <td>32</td>\n",
       "      <td>59</td>\n",
       "      <td>105</td>\n",
       "      <td>26</td>\n",
       "      <td>2015-09-13</td>\n",
       "      <td>2016-08-21</td>\n",
       "      <td>85.0</td>\n",
       "      <td>9.0</td>\n",
       "      <td>9.0</td>\n",
       "      <td>9.0</td>\n",
       "      <td>9.0</td>\n",
       "      <td>10.0</td>\n",
       "      <td>9.0</td>\n",
       "      <td>1</td>\n",
       "      <td>strict</td>\n",
       "      <td>0</td>\n",
       "      <td>0</td>\n",
       "      <td>2.16</td>\n",
       "      <td>0.0</td>\n",
       "      <td>1.0</td>\n",
       "      <td>0.0</td>\n",
       "      <td>0.0</td>\n",
       "      <td>1.0</td>\n",
       "      <td>0.0</td>\n",
       "      <td>0.0</td>\n",
       "      <td>1.0</td>\n",
       "      <td>0.0</td>\n",
       "      <td>1.0</td>\n",
       "      <td>1.0</td>\n",
       "      <td>0.0</td>\n",
       "      <td>0.0</td>\n",
       "      <td>1</td>\n",
       "      <td>1</td>\n",
       "      <td>0</td>\n",
       "      <td>1</td>\n",
       "      <td>1</td>\n",
       "      <td>1</td>\n",
       "      <td>0</td>\n",
       "      <td>0</td>\n",
       "      <td>0</td>\n",
       "      <td>1</td>\n",
       "      <td>0</td>\n",
       "      <td>1</td>\n",
       "      <td>0</td>\n",
       "      <td>0</td>\n",
       "      <td>0</td>\n",
       "      <td>0</td>\n",
       "      <td>0</td>\n",
       "      <td>0</td>\n",
       "      <td>1</td>\n",
       "      <td>1</td>\n",
       "      <td>1</td>\n",
       "      <td>0</td>\n",
       "      <td>0</td>\n",
       "      <td>1</td>\n",
       "      <td>1</td>\n",
       "      <td>1</td>\n",
       "      <td>1</td>\n",
       "      <td>0</td>\n",
       "      <td>0</td>\n",
       "      <td>0</td>\n",
       "      <td>1</td>\n",
       "      <td>0</td>\n",
       "      <td>0</td>\n",
       "      <td>0</td>\n",
       "      <td>1</td>\n",
       "      <td>1</td>\n",
       "      <td>0</td>\n",
       "      <td>0</td>\n",
       "      <td>1</td>\n",
       "      <td>1</td>\n",
       "      <td>0</td>\n",
       "      <td>0</td>\n",
       "      <td>1</td>\n",
       "    </tr>\n",
       "    <tr>\n",
       "      <th>2061</th>\n",
       "      <td>14122467</td>\n",
       "      <td>2016-09-07</td>\n",
       "      <td>32088178</td>\n",
       "      <td>Christine</td>\n",
       "      <td>2015-04-27</td>\n",
       "      <td>Never</td>\n",
       "      <td>0.00</td>\n",
       "      <td>0.00</td>\n",
       "      <td>0</td>\n",
       "      <td>1</td>\n",
       "      <td>1</td>\n",
       "      <td>1</td>\n",
       "      <td>Devonshire Street, Boston, MA 02110, United St...</td>\n",
       "      <td>Downtown</td>\n",
       "      <td>42.355444</td>\n",
       "      <td>-71.057985</td>\n",
       "      <td>NaN</td>\n",
       "      <td>Entire home/apt</td>\n",
       "      <td>2</td>\n",
       "      <td>1.0</td>\n",
       "      <td>1.0</td>\n",
       "      <td>1.0</td>\n",
       "      <td>Real Bed</td>\n",
       "      <td>190.0</td>\n",
       "      <td>NaN</td>\n",
       "      <td>1</td>\n",
       "      <td>0.0</td>\n",
       "      <td>2</td>\n",
       "      <td>3</td>\n",
       "      <td>0</td>\n",
       "      <td>0</td>\n",
       "      <td>0</td>\n",
       "      <td>0</td>\n",
       "      <td>0</td>\n",
       "      <td>NaT</td>\n",
       "      <td>NaT</td>\n",
       "      <td>NaN</td>\n",
       "      <td>NaN</td>\n",
       "      <td>NaN</td>\n",
       "      <td>NaN</td>\n",
       "      <td>NaN</td>\n",
       "      <td>NaN</td>\n",
       "      <td>NaN</td>\n",
       "      <td>0</td>\n",
       "      <td>strict</td>\n",
       "      <td>0</td>\n",
       "      <td>0</td>\n",
       "      <td>NaN</td>\n",
       "      <td>0.0</td>\n",
       "      <td>1.0</td>\n",
       "      <td>0.0</td>\n",
       "      <td>0.0</td>\n",
       "      <td>1.0</td>\n",
       "      <td>0.0</td>\n",
       "      <td>0.0</td>\n",
       "      <td>0.0</td>\n",
       "      <td>0.0</td>\n",
       "      <td>1.0</td>\n",
       "      <td>1.0</td>\n",
       "      <td>0.0</td>\n",
       "      <td>0.0</td>\n",
       "      <td>1</td>\n",
       "      <td>1</td>\n",
       "      <td>0</td>\n",
       "      <td>0</td>\n",
       "      <td>0</td>\n",
       "      <td>1</td>\n",
       "      <td>0</td>\n",
       "      <td>0</td>\n",
       "      <td>1</td>\n",
       "      <td>0</td>\n",
       "      <td>1</td>\n",
       "      <td>1</td>\n",
       "      <td>1</td>\n",
       "      <td>1</td>\n",
       "      <td>0</td>\n",
       "      <td>0</td>\n",
       "      <td>0</td>\n",
       "      <td>1</td>\n",
       "      <td>1</td>\n",
       "      <td>1</td>\n",
       "      <td>1</td>\n",
       "      <td>0</td>\n",
       "      <td>0</td>\n",
       "      <td>0</td>\n",
       "      <td>1</td>\n",
       "      <td>0</td>\n",
       "      <td>1</td>\n",
       "      <td>1</td>\n",
       "      <td>0</td>\n",
       "      <td>0</td>\n",
       "      <td>0</td>\n",
       "      <td>0</td>\n",
       "      <td>0</td>\n",
       "      <td>0</td>\n",
       "      <td>1</td>\n",
       "      <td>1</td>\n",
       "      <td>0</td>\n",
       "      <td>1</td>\n",
       "      <td>1</td>\n",
       "      <td>0</td>\n",
       "      <td>0</td>\n",
       "      <td>1</td>\n",
       "      <td>1</td>\n",
       "    </tr>\n",
       "    <tr>\n",
       "      <th>3393</th>\n",
       "      <td>10758</td>\n",
       "      <td>2016-09-07</td>\n",
       "      <td>38440</td>\n",
       "      <td>The Farrington Inn</td>\n",
       "      <td>2009-09-14</td>\n",
       "      <td>within a day</td>\n",
       "      <td>1.00</td>\n",
       "      <td>0.42</td>\n",
       "      <td>0</td>\n",
       "      <td>4</td>\n",
       "      <td>1</td>\n",
       "      <td>0</td>\n",
       "      <td>Farrington Ave, Boston, MA 02134, United States</td>\n",
       "      <td>Allston</td>\n",
       "      <td>42.353449</td>\n",
       "      <td>-71.131797</td>\n",
       "      <td>NaN</td>\n",
       "      <td>Private room</td>\n",
       "      <td>1</td>\n",
       "      <td>1.0</td>\n",
       "      <td>1.0</td>\n",
       "      <td>1.0</td>\n",
       "      <td>Real Bed</td>\n",
       "      <td>115.0</td>\n",
       "      <td>NaN</td>\n",
       "      <td>1</td>\n",
       "      <td>0.0</td>\n",
       "      <td>1</td>\n",
       "      <td>90</td>\n",
       "      <td>3</td>\n",
       "      <td>13</td>\n",
       "      <td>43</td>\n",
       "      <td>43</td>\n",
       "      <td>2</td>\n",
       "      <td>2014-10-22</td>\n",
       "      <td>2015-10-03</td>\n",
       "      <td>60.0</td>\n",
       "      <td>6.0</td>\n",
       "      <td>5.0</td>\n",
       "      <td>8.0</td>\n",
       "      <td>8.0</td>\n",
       "      <td>8.0</td>\n",
       "      <td>7.0</td>\n",
       "      <td>0</td>\n",
       "      <td>moderate</td>\n",
       "      <td>0</td>\n",
       "      <td>0</td>\n",
       "      <td>0.09</td>\n",
       "      <td>0.0</td>\n",
       "      <td>1.0</td>\n",
       "      <td>0.0</td>\n",
       "      <td>0.0</td>\n",
       "      <td>0.0</td>\n",
       "      <td>0.0</td>\n",
       "      <td>0.0</td>\n",
       "      <td>0.0</td>\n",
       "      <td>0.0</td>\n",
       "      <td>1.0</td>\n",
       "      <td>1.0</td>\n",
       "      <td>0.0</td>\n",
       "      <td>0.0</td>\n",
       "      <td>0</td>\n",
       "      <td>1</td>\n",
       "      <td>0</td>\n",
       "      <td>0</td>\n",
       "      <td>1</td>\n",
       "      <td>1</td>\n",
       "      <td>0</td>\n",
       "      <td>0</td>\n",
       "      <td>0</td>\n",
       "      <td>0</td>\n",
       "      <td>0</td>\n",
       "      <td>0</td>\n",
       "      <td>0</td>\n",
       "      <td>1</td>\n",
       "      <td>0</td>\n",
       "      <td>1</td>\n",
       "      <td>0</td>\n",
       "      <td>0</td>\n",
       "      <td>0</td>\n",
       "      <td>0</td>\n",
       "      <td>1</td>\n",
       "      <td>0</td>\n",
       "      <td>0</td>\n",
       "      <td>1</td>\n",
       "      <td>0</td>\n",
       "      <td>1</td>\n",
       "      <td>0</td>\n",
       "      <td>0</td>\n",
       "      <td>0</td>\n",
       "      <td>0</td>\n",
       "      <td>0</td>\n",
       "      <td>0</td>\n",
       "      <td>0</td>\n",
       "      <td>0</td>\n",
       "      <td>0</td>\n",
       "      <td>1</td>\n",
       "      <td>0</td>\n",
       "      <td>0</td>\n",
       "      <td>1</td>\n",
       "      <td>0</td>\n",
       "      <td>0</td>\n",
       "      <td>0</td>\n",
       "      <td>1</td>\n",
       "    </tr>\n",
       "  </tbody>\n",
       "</table>\n",
       "</div>"
      ],
      "text/plain": [
       "            id last_scraped   host_id           host_name host_since  \\\n",
       "1321   7731797   2016-09-07  12243051            Flatbook 2014-02-14   \n",
       "2061  14122467   2016-09-07  32088178           Christine 2015-04-27   \n",
       "3393     10758   2016-09-07     38440  The Farrington Inn 2009-09-14   \n",
       "\n",
       "      host_response_time  host_response_rate  host_acceptance_rate  \\\n",
       "1321  within a few hours                0.71                  0.98   \n",
       "2061               Never                0.00                  0.00   \n",
       "3393        within a day                1.00                  0.42   \n",
       "\n",
       "      host_is_superhost  host_listings_count  host_has_profile_pic  \\\n",
       "1321                  0                  363                     1   \n",
       "2061                  0                    1                     1   \n",
       "3393                  0                    4                     1   \n",
       "\n",
       "      host_identity_verified  \\\n",
       "1321                       1   \n",
       "2061                       1   \n",
       "3393                       0   \n",
       "\n",
       "                                                 street  \\\n",
       "1321    Newbury Street, Boston, MA 02116, United States   \n",
       "2061  Devonshire Street, Boston, MA 02110, United St...   \n",
       "3393    Farrington Ave, Boston, MA 02134, United States   \n",
       "\n",
       "     neighbourhood_cleansed   latitude  longitude property_type  \\\n",
       "1321               Back Bay  42.349350 -71.082488           NaN   \n",
       "2061               Downtown  42.355444 -71.057985           NaN   \n",
       "3393                Allston  42.353449 -71.131797           NaN   \n",
       "\n",
       "            room_type  accommodates  bathrooms  bedrooms  beds  bed_type  \\\n",
       "1321  Entire home/apt             2        1.0       0.0   1.0  Real Bed   \n",
       "2061  Entire home/apt             2        1.0       1.0   1.0  Real Bed   \n",
       "3393     Private room             1        1.0       1.0   1.0  Real Bed   \n",
       "\n",
       "      price  cleaning_fee  guests_included  extra_people  minimum_nights  \\\n",
       "1321  199.0          75.0                2          10.0               3   \n",
       "2061  190.0           NaN                1           0.0               2   \n",
       "3393  115.0           NaN                1           0.0               1   \n",
       "\n",
       "      maximum_nights  availability_30  availability_60  availability_90  \\\n",
       "1321            1125               16               32               59   \n",
       "2061               3                0                0                0   \n",
       "3393              90                3               13               43   \n",
       "\n",
       "      availability_365  number_of_reviews first_review last_review  \\\n",
       "1321               105                 26   2015-09-13  2016-08-21   \n",
       "2061                 0                  0          NaT         NaT   \n",
       "3393                43                  2   2014-10-22  2015-10-03   \n",
       "\n",
       "      review_scores_rating  review_scores_accuracy  review_scores_cleanliness  \\\n",
       "1321                  85.0                     9.0                        9.0   \n",
       "2061                   NaN                     NaN                        NaN   \n",
       "3393                  60.0                     6.0                        5.0   \n",
       "\n",
       "      review_scores_checkin  review_scores_communication  \\\n",
       "1321                    9.0                          9.0   \n",
       "2061                    NaN                          NaN   \n",
       "3393                    8.0                          8.0   \n",
       "\n",
       "      review_scores_location  review_scores_value  instant_bookable  \\\n",
       "1321                    10.0                  9.0                 1   \n",
       "2061                     NaN                  NaN                 0   \n",
       "3393                     8.0                  7.0                 0   \n",
       "\n",
       "     cancellation_policy  require_guest_profile_picture  \\\n",
       "1321              strict                              0   \n",
       "2061              strict                              0   \n",
       "3393            moderate                              0   \n",
       "\n",
       "      require_guest_phone_verification  reviews_per_month  \\\n",
       "1321                                 0               2.16   \n",
       "2061                                 0                NaN   \n",
       "3393                                 0               0.09   \n",
       "\n",
       "      host_verifications_amex  host_verifications_email  \\\n",
       "1321                      0.0                       1.0   \n",
       "2061                      0.0                       1.0   \n",
       "3393                      0.0                       1.0   \n",
       "\n",
       "      host_verifications_facebook  host_verifications_google  \\\n",
       "1321                          0.0                        0.0   \n",
       "2061                          0.0                        0.0   \n",
       "3393                          0.0                        0.0   \n",
       "\n",
       "      host_verifications_jumio  host_verifications_kba  \\\n",
       "1321                       1.0                     0.0   \n",
       "2061                       1.0                     0.0   \n",
       "3393                       0.0                     0.0   \n",
       "\n",
       "      host_verifications_linkedin  host_verifications_manual_offline  \\\n",
       "1321                          0.0                                1.0   \n",
       "2061                          0.0                                0.0   \n",
       "3393                          0.0                                0.0   \n",
       "\n",
       "      host_verifications_manual_online  host_verifications_phone  \\\n",
       "1321                               0.0                       1.0   \n",
       "2061                               0.0                       1.0   \n",
       "3393                               0.0                       1.0   \n",
       "\n",
       "      host_verifications_reviews  host_verifications_sent_id  \\\n",
       "1321                         1.0                         0.0   \n",
       "2061                         1.0                         0.0   \n",
       "3393                         1.0                         0.0   \n",
       "\n",
       "      host_verifications_weibo  amenities_24-Hour Check-in  \\\n",
       "1321                       0.0                           1   \n",
       "2061                       0.0                           1   \n",
       "3393                       0.0                           0   \n",
       "\n",
       "      amenities_Air Conditioning  amenities_Breakfast  \\\n",
       "1321                           1                    0   \n",
       "2061                           1                    0   \n",
       "3393                           1                    0   \n",
       "\n",
       "      amenities_Buzzer/Wireless Intercom  amenities_Cable TV  \\\n",
       "1321                                   1                   1   \n",
       "2061                                   0                   0   \n",
       "3393                                   0                   1   \n",
       "\n",
       "      amenities_Carbon Monoxide Detector  amenities_Cat(s)  amenities_Dog(s)  \\\n",
       "1321                                   1                 0                 0   \n",
       "2061                                   1                 0                 0   \n",
       "3393                                   1                 0                 0   \n",
       "\n",
       "      amenities_Doorman  amenities_Dryer  amenities_Elevator in Building  \\\n",
       "1321                  0                1                               0   \n",
       "2061                  1                0                               1   \n",
       "3393                  0                0                               0   \n",
       "\n",
       "      amenities_Essentials  amenities_Family/Kid Friendly  \\\n",
       "1321                     1                              0   \n",
       "2061                     1                              1   \n",
       "3393                     0                              0   \n",
       "\n",
       "      amenities_Fire Extinguisher  amenities_First Aid Kit  \\\n",
       "1321                            0                        0   \n",
       "2061                            1                        0   \n",
       "3393                            1                        0   \n",
       "\n",
       "      amenities_Free Parking on Premises  amenities_Free Parking on Street  \\\n",
       "1321                                   0                                 0   \n",
       "2061                                   0                                 0   \n",
       "3393                                   1                                 0   \n",
       "\n",
       "      amenities_Gym  amenities_Hair Dryer  amenities_Hangers  \\\n",
       "1321              0                     1                  1   \n",
       "2061              1                     1                  1   \n",
       "3393              0                     0                  0   \n",
       "\n",
       "      amenities_Heating  amenities_Hot Tub  amenities_Indoor Fireplace  \\\n",
       "1321                  1                  0                           0   \n",
       "2061                  1                  0                           0   \n",
       "3393                  1                  0                           0   \n",
       "\n",
       "      amenities_Internet  amenities_Iron  amenities_Kitchen  \\\n",
       "1321                   1               1                  1   \n",
       "2061                   0               1                  0   \n",
       "3393                   1               0                  1   \n",
       "\n",
       "      amenities_Laptop Friendly Workspace  amenities_Lock on Bedroom Door  \\\n",
       "1321                                    1                               0   \n",
       "2061                                    1                               1   \n",
       "3393                                    0                               0   \n",
       "\n",
       "      amenities_Other pet(s)  amenities_Paid Parking Off Premises  \\\n",
       "1321                       0                                    0   \n",
       "2061                       0                                    0   \n",
       "3393                       0                                    0   \n",
       "\n",
       "      amenities_Pets Allowed  amenities_Pets live on this property  \\\n",
       "1321                       1                                     0   \n",
       "2061                       0                                     0   \n",
       "3393                       0                                     0   \n",
       "\n",
       "      amenities_Pool  amenities_Safety Card  amenities_Shampoo  \\\n",
       "1321               0                      0                  1   \n",
       "2061               0                      0                  1   \n",
       "3393               0                      0                  0   \n",
       "\n",
       "      amenities_Smoke Detector  amenities_Smoking Allowed  \\\n",
       "1321                         1                          0   \n",
       "2061                         1                          0   \n",
       "3393                         1                          0   \n",
       "\n",
       "      amenities_Suitable for Events  amenities_TV  amenities_Washer  \\\n",
       "1321                              0             1                 1   \n",
       "2061                              1             1                 0   \n",
       "3393                              0             1                 0   \n",
       "\n",
       "      amenities_Washer / Dryer  amenities_Wheelchair Accessible  \\\n",
       "1321                         0                                0   \n",
       "2061                         0                                1   \n",
       "3393                         0                                0   \n",
       "\n",
       "      amenities_Wireless Internet  \n",
       "1321                            1  \n",
       "2061                            1  \n",
       "3393                            1  "
      ]
     },
     "execution_count": 85,
     "metadata": {},
     "output_type": "execute_result"
    }
   ],
   "source": [
    "data[data.property_type.isna()]"
   ]
  },
  {
   "cell_type": "code",
   "execution_count": 86,
   "metadata": {
    "ExecuteTime": {
     "end_time": "2020-02-06T14:45:08.648866Z",
     "start_time": "2020-02-06T14:44:35.738406Z"
    }
   },
   "outputs": [
    {
     "data": {
      "text/plain": [
       "<matplotlib.axes._subplots.AxesSubplot at 0x7fbfdf756828>"
      ]
     },
     "execution_count": 86,
     "metadata": {},
     "output_type": "execute_result"
    },
    {
     "data": {
      "image/png": "[encoded data removed]",
      "text/plain": [
       "<Figure size 1080x720 with 1 Axes>"
      ]
     },
     "metadata": {
      "needs_background": "light"
     },
     "output_type": "display_data"
    }
   ],
   "source": [
    "fig, ax = make_ax(15, 10)\n",
    "sns.swarmplot(data=data, x=\"property_type\", y='price', hue='neighbourhood_cleansed', ax=ax)"
   ]
  },
  {
   "cell_type": "code",
   "execution_count": 87,
   "metadata": {
    "ExecuteTime": {
     "end_time": "2020-02-06T14:45:08.653656Z",
     "start_time": "2020-02-06T14:45:08.650606Z"
    }
   },
   "outputs": [],
   "source": [
    "# Nothing can be with certainty taken from the data that will allow us to smartly fill it. \n",
    "# Since it s only 3 records I will fill it with 'Other'\n",
    "data.property_type.fillna('Other', inplace=True)"
   ]
  },
  {
   "cell_type": "code",
   "execution_count": 88,
   "metadata": {
    "ExecuteTime": {
     "end_time": "2020-02-06T14:45:40.442069Z",
     "start_time": "2020-02-06T14:45:08.655185Z"
    }
   },
   "outputs": [
    {
     "data": {
      "text/plain": [
       "<matplotlib.axes._subplots.AxesSubplot at 0x7fbfdfc1eba8>"
      ]
     },
     "execution_count": 88,
     "metadata": {},
     "output_type": "execute_result"
    },
    {
     "data": {
      "image/png": "[encoded data removed]",
      "text/plain": [
       "<Figure size 1080x720 with 1 Axes>"
      ]
     },
     "metadata": {
      "needs_background": "light"
     },
     "output_type": "display_data"
    }
   ],
   "source": [
    "# We see that by putting those three in the \"Other\" category is reasonable taking in acount \n",
    "# the price and neighbourhood\n",
    "fig, ax = make_ax(15, 10)\n",
    "sns.swarmplot(data=data, x=\"property_type\", y='price', hue='neighbourhood_cleansed', ax=ax)"
   ]
  },
  {
   "cell_type": "markdown",
   "metadata": {},
   "source": [
    "### Beds\n",
    "\n",
    "To fill the missing values in the beds variable, I grouped by property type and how many it can accommodate. Then proceeded to take the mean value and round it up.\n",
    "For each missing value, it then searches this group and takes the value correspondent to the mean of its group"
   ]
  },
  {
   "cell_type": "code",
   "execution_count": 89,
   "metadata": {
    "ExecuteTime": {
     "end_time": "2020-02-06T14:45:40.448419Z",
     "start_time": "2020-02-06T14:45:40.443422Z"
    }
   },
   "outputs": [
    {
     "data": {
      "text/plain": [
       "1.0    2379\n",
       "2.0     693\n",
       "0.0     287\n",
       "3.0     155\n",
       "4.0      45\n",
       "5.0      16\n",
       "Name: bedrooms, dtype: int64"
      ]
     },
     "execution_count": 89,
     "metadata": {},
     "output_type": "execute_result"
    }
   ],
   "source": [
    "data.bedrooms.value_counts()"
   ]
  },
  {
   "cell_type": "code",
   "execution_count": 90,
   "metadata": {
    "ExecuteTime": {
     "end_time": "2020-02-06T14:45:42.164623Z",
     "start_time": "2020-02-06T14:45:40.449677Z"
    }
   },
   "outputs": [
    {
     "data": {
      "text/plain": [
       "<matplotlib.axes._subplots.AxesSubplot at 0x7fbfdf7afeb8>"
      ]
     },
     "execution_count": 90,
     "metadata": {},
     "output_type": "execute_result"
    },
    {
     "data": {
      "image/png": "[encoded data removed]",
      "text/plain": [
       "<Figure size 2160x504 with 1 Axes>"
      ]
     },
     "metadata": {
      "needs_background": "light"
     },
     "output_type": "display_data"
    }
   ],
   "source": [
    "fig, ax = make_ax(30, 7)\n",
    "sns.boxplot(data=data, x='property_type', y='beds', hue='accommodates', ax=ax)"
   ]
  },
  {
   "cell_type": "code",
   "execution_count": 91,
   "metadata": {
    "ExecuteTime": {
     "end_time": "2020-02-06T14:45:43.503550Z",
     "start_time": "2020-02-06T14:45:42.167287Z"
    }
   },
   "outputs": [
    {
     "data": {
      "text/plain": [
       "<matplotlib.axes._subplots.AxesSubplot at 0x7fbfdfe732e8>"
      ]
     },
     "execution_count": 91,
     "metadata": {},
     "output_type": "execute_result"
    },
    {
     "data": {
      "image/png": "[encoded data removed]",
      "text/plain": [
       "<Figure size 2160x504 with 1 Axes>"
      ]
     },
     "metadata": {
      "needs_background": "light"
     },
     "output_type": "display_data"
    }
   ],
   "source": [
    "fig, ax = make_ax(30, 7)\n",
    "data.groupby(['property_type', 'accommodates']).beds.mean().round().plot(kind='bar', ax=ax)"
   ]
  },
  {
   "cell_type": "code",
   "execution_count": 92,
   "metadata": {
    "ExecuteTime": {
     "end_time": "2020-02-06T14:45:43.515668Z",
     "start_time": "2020-02-06T14:45:43.505086Z"
    }
   },
   "outputs": [],
   "source": [
    "bed_imputation = data.groupby(['property_type', 'accommodates']).bedrooms.mean().round()\n",
    "data.loc[data.beds.isna(), 'beds'] = data.loc[data.beds.isna(), :]\\\n",
    "    .apply(lambda x: bed_imputation[x.property_type, x.accommodates], axis=1)"
   ]
  },
  {
   "cell_type": "markdown",
   "metadata": {},
   "source": [
    "### Bathrooms\n",
    "\n",
    "To fill the missing values in the bathrooms variable, I grouped by property type, how many it can accommodate and room type. Then proceeded to take the mean value and round it up.\n",
    "For each missing value, it then searches this group and takes the value correspondent to the mean of its group. Same idea as before."
   ]
  },
  {
   "cell_type": "code",
   "execution_count": 93,
   "metadata": {
    "ExecuteTime": {
     "end_time": "2020-02-06T14:45:45.075158Z",
     "start_time": "2020-02-06T14:45:43.516833Z"
    }
   },
   "outputs": [
    {
     "data": {
      "text/plain": [
       "<matplotlib.axes._subplots.AxesSubplot at 0x7fbfdfe6bb38>"
      ]
     },
     "execution_count": 93,
     "metadata": {},
     "output_type": "execute_result"
    },
    {
     "data": {
      "image/png": "[encoded data removed]",
      "text/plain": [
       "<Figure size 2160x504 with 1 Axes>"
      ]
     },
     "metadata": {
      "needs_background": "light"
     },
     "output_type": "display_data"
    }
   ],
   "source": [
    "fig, ax = make_ax(30, 7)\n",
    "sns.boxplot(data=data, x='property_type', y='bathrooms', hue='accommodates', ax=ax)"
   ]
  },
  {
   "cell_type": "code",
   "execution_count": 94,
   "metadata": {
    "ExecuteTime": {
     "end_time": "2020-02-06T14:45:47.572987Z",
     "start_time": "2020-02-06T14:45:45.076392Z"
    }
   },
   "outputs": [
    {
     "data": {
      "text/plain": [
       "<matplotlib.axes._subplots.AxesSubplot at 0x7fbfdf6fc2b0>"
      ]
     },
     "execution_count": 94,
     "metadata": {},
     "output_type": "execute_result"
    },
    {
     "data": {
      "image/png": "[encoded data removed]",
      "text/plain": [
       "<Figure size 2160x504 with 1 Axes>"
      ]
     },
     "metadata": {
      "needs_background": "light"
     },
     "output_type": "display_data"
    }
   ],
   "source": [
    "fig, ax = make_ax(30, 7)\n",
    "data.groupby(['property_type', 'accommodates', 'room_type']).bathrooms.mean().plot(kind='bar', ax=ax)"
   ]
  },
  {
   "cell_type": "code",
   "execution_count": 95,
   "metadata": {
    "ExecuteTime": {
     "end_time": "2020-02-06T14:45:47.577783Z",
     "start_time": "2020-02-06T14:45:47.574260Z"
    }
   },
   "outputs": [
    {
     "data": {
      "text/plain": [
       "array([1.5, 1. , 2. , 0. , 2.5, 3.5, nan, 3. , 0.5, 4.5, 4. , 5. , 6. ])"
      ]
     },
     "execution_count": 95,
     "metadata": {},
     "output_type": "execute_result"
    }
   ],
   "source": [
    "data[\"bathrooms\"].unique()"
   ]
  },
  {
   "cell_type": "code",
   "execution_count": 96,
   "metadata": {
    "ExecuteTime": {
     "end_time": "2020-02-06T14:45:47.586193Z",
     "start_time": "2020-02-06T14:45:47.578939Z"
    }
   },
   "outputs": [],
   "source": [
    "bathroom_imputation = data.groupby(['property_type', 'accommodates', 'room_type']).bathrooms.mean()\\\n",
    "    .apply(lambda x: round_half(x))"
   ]
  },
  {
   "cell_type": "code",
   "execution_count": 97,
   "metadata": {
    "ExecuteTime": {
     "end_time": "2020-02-06T14:45:47.596673Z",
     "start_time": "2020-02-06T14:45:47.587498Z"
    }
   },
   "outputs": [],
   "source": [
    "data.loc[data.bathrooms.isna(), 'bathrooms'] = data.loc[data.bathrooms.isna(), :]\\\n",
    "    .apply(lambda x: bathroom_imputation[x.property_type, x.accommodates, x.room_type], axis=1)"
   ]
  },
  {
   "cell_type": "markdown",
   "metadata": {},
   "source": [
    "### Bedrooms\n",
    "\n",
    "To fill the missing values in the bedrooms variable, I grouped by property type, how many it can accommodate and beds. Then proceeded to take the mean value and round it up.\n",
    "For each missing value, it then searches this group and takes the value correspondent to the mean of its group. Same idea as before."
   ]
  },
  {
   "cell_type": "code",
   "execution_count": 98,
   "metadata": {
    "ExecuteTime": {
     "end_time": "2020-02-06T14:45:47.602115Z",
     "start_time": "2020-02-06T14:45:47.597825Z"
    }
   },
   "outputs": [
    {
     "data": {
      "text/plain": [
       "1.0    2379\n",
       "2.0     693\n",
       "0.0     287\n",
       "3.0     155\n",
       "4.0      45\n",
       "5.0      16\n",
       "Name: bedrooms, dtype: int64"
      ]
     },
     "execution_count": 98,
     "metadata": {},
     "output_type": "execute_result"
    }
   ],
   "source": [
    "data.bedrooms.value_counts()"
   ]
  },
  {
   "cell_type": "code",
   "execution_count": 99,
   "metadata": {
    "ExecuteTime": {
     "end_time": "2020-02-06T14:45:49.288151Z",
     "start_time": "2020-02-06T14:45:47.603296Z"
    }
   },
   "outputs": [
    {
     "data": {
      "text/plain": [
       "<matplotlib.axes._subplots.AxesSubplot at 0x7fbfdf5b2cf8>"
      ]
     },
     "execution_count": 99,
     "metadata": {},
     "output_type": "execute_result"
    },
    {
     "data": {
      "image/png": "[encoded data removed]",
      "text/plain": [
       "<Figure size 2160x504 with 1 Axes>"
      ]
     },
     "metadata": {
      "needs_background": "light"
     },
     "output_type": "display_data"
    }
   ],
   "source": [
    "fig, ax = make_ax(30, 7)\n",
    "sns.boxplot(data=data, x='property_type', y='bedrooms', hue='accommodates', ax=ax)"
   ]
  },
  {
   "cell_type": "code",
   "execution_count": 100,
   "metadata": {
    "ExecuteTime": {
     "end_time": "2020-02-06T14:45:52.196912Z",
     "start_time": "2020-02-06T14:45:49.289369Z"
    }
   },
   "outputs": [
    {
     "data": {
      "text/plain": [
       "<matplotlib.axes._subplots.AxesSubplot at 0x7fbfdef661d0>"
      ]
     },
     "execution_count": 100,
     "metadata": {},
     "output_type": "execute_result"
    },
    {
     "data": {
      "image/png": "[encoded data removed]",
      "text/plain": [
       "<Figure size 2160x504 with 1 Axes>"
      ]
     },
     "metadata": {
      "needs_background": "light"
     },
     "output_type": "display_data"
    }
   ],
   "source": [
    "fig, ax = make_ax(30, 7)\n",
    "data.groupby(['property_type', 'accommodates', 'beds']).bedrooms.mean().apply(round).plot(kind='bar', ax=ax)"
   ]
  },
  {
   "cell_type": "code",
   "execution_count": 101,
   "metadata": {
    "ExecuteTime": {
     "end_time": "2020-02-06T14:45:52.209978Z",
     "start_time": "2020-02-06T14:45:52.198157Z"
    }
   },
   "outputs": [],
   "source": [
    "bedroom_imputation = data.groupby(['property_type', 'accommodates', 'beds']).bedrooms.mean().apply(round)\n",
    "data.loc[data.bedrooms.isna(), 'bedrooms'] = data.loc[data.bedrooms.isna(), :]\\\n",
    "    .apply(lambda x: bedroom_imputation[x.property_type, x.accommodates, x.beds], axis=1)"
   ]
  },
  {
   "cell_type": "markdown",
   "metadata": {},
   "source": [
    "### Cleaning Fee\n",
    "\n",
    "Either there is or there isnt a cleaning fee. Therefore is there is none then the value is zero"
   ]
  },
  {
   "cell_type": "code",
   "execution_count": 102,
   "metadata": {
    "ExecuteTime": {
     "end_time": "2020-02-06T14:45:52.213830Z",
     "start_time": "2020-02-06T14:45:52.211207Z"
    }
   },
   "outputs": [],
   "source": [
    "data[\"cleaning_fee\"] = data[\"cleaning_fee\"].fillna(0)"
   ]
  },
  {
   "cell_type": "markdown",
   "metadata": {},
   "source": [
    "### Review scores\n",
    "\n",
    "For all the review scores, since there are listings with no reviews yet, I will mar the ones with no review not with ZERO (because it can have really bad reviews of zero) but with a out-of-scale number like -9999"
   ]
  },
  {
   "cell_type": "code",
   "execution_count": 103,
   "metadata": {
    "ExecuteTime": {
     "end_time": "2020-02-06T14:45:52.223549Z",
     "start_time": "2020-02-06T14:45:52.215981Z"
    }
   },
   "outputs": [],
   "source": [
    "# Filling it with -9999 meaning there is no review yet\n",
    "\n",
    "review_cols = data.filter(like='review_scores').columns.values\n",
    "data[review_cols] = data[review_cols].fillna(-9999)"
   ]
  },
  {
   "cell_type": "markdown",
   "metadata": {},
   "source": [
    "### Reviews per Month\n",
    "\n",
    "In this case, it comes up NaN because there were no reviews, so I fill it also with zeros."
   ]
  },
  {
   "cell_type": "code",
   "execution_count": 104,
   "metadata": {
    "ExecuteTime": {
     "end_time": "2020-02-06T14:45:52.235809Z",
     "start_time": "2020-02-06T14:45:52.224973Z"
    }
   },
   "outputs": [
    {
     "data": {
      "text/html": [
       "<div>\n",
       "<style scoped>\n",
       "    .dataframe tbody tr th:only-of-type {\n",
       "        vertical-align: middle;\n",
       "    }\n",
       "\n",
       "    .dataframe tbody tr th {\n",
       "        vertical-align: top;\n",
       "    }\n",
       "\n",
       "    .dataframe thead th {\n",
       "        text-align: right;\n",
       "    }\n",
       "</style>\n",
       "<table border=\"1\" class=\"dataframe\">\n",
       "  <thead>\n",
       "    <tr style=\"text-align: right;\">\n",
       "      <th></th>\n",
       "      <th>number_of_reviews</th>\n",
       "    </tr>\n",
       "  </thead>\n",
       "  <tbody>\n",
       "    <tr>\n",
       "      <th>0</th>\n",
       "      <td>0</td>\n",
       "    </tr>\n",
       "    <tr>\n",
       "      <th>18</th>\n",
       "      <td>0</td>\n",
       "    </tr>\n",
       "    <tr>\n",
       "      <th>32</th>\n",
       "      <td>0</td>\n",
       "    </tr>\n",
       "    <tr>\n",
       "      <th>36</th>\n",
       "      <td>0</td>\n",
       "    </tr>\n",
       "    <tr>\n",
       "      <th>53</th>\n",
       "      <td>0</td>\n",
       "    </tr>\n",
       "  </tbody>\n",
       "</table>\n",
       "</div>"
      ],
      "text/plain": [
       "    number_of_reviews\n",
       "0                   0\n",
       "18                  0\n",
       "32                  0\n",
       "36                  0\n",
       "53                  0"
      ]
     },
     "execution_count": 104,
     "metadata": {},
     "output_type": "execute_result"
    }
   ],
   "source": [
    "# Reviews per month should be zero if the number of reviews is zero, \n",
    "# which happens always when reviews_per_month is NaN\n",
    "data[data.reviews_per_month.isna()][[\"number_of_reviews\"]].head()"
   ]
  },
  {
   "cell_type": "code",
   "execution_count": 105,
   "metadata": {
    "ExecuteTime": {
     "end_time": "2020-02-06T14:45:52.240010Z",
     "start_time": "2020-02-06T14:45:52.237265Z"
    }
   },
   "outputs": [],
   "source": [
    "data.reviews_per_month = data.reviews_per_month.fillna(0)"
   ]
  },
  {
   "cell_type": "markdown",
   "metadata": {},
   "source": [
    "### Host Verifications\n",
    "\n",
    "There is only one record without any verification. Probably a new host who hasnt been verified yet. Filling it with all zeros."
   ]
  },
  {
   "cell_type": "code",
   "execution_count": 106,
   "metadata": {
    "ExecuteTime": {
     "end_time": "2020-02-06T14:45:52.295600Z",
     "start_time": "2020-02-06T14:45:52.241312Z"
    }
   },
   "outputs": [
    {
     "data": {
      "text/html": [
       "<div>\n",
       "<style scoped>\n",
       "    .dataframe tbody tr th:only-of-type {\n",
       "        vertical-align: middle;\n",
       "    }\n",
       "\n",
       "    .dataframe tbody tr th {\n",
       "        vertical-align: top;\n",
       "    }\n",
       "\n",
       "    .dataframe thead th {\n",
       "        text-align: right;\n",
       "    }\n",
       "</style>\n",
       "<table border=\"1\" class=\"dataframe\">\n",
       "  <thead>\n",
       "    <tr style=\"text-align: right;\">\n",
       "      <th></th>\n",
       "      <th>id</th>\n",
       "      <th>last_scraped</th>\n",
       "      <th>host_id</th>\n",
       "      <th>host_name</th>\n",
       "      <th>host_since</th>\n",
       "      <th>host_response_time</th>\n",
       "      <th>host_response_rate</th>\n",
       "      <th>host_acceptance_rate</th>\n",
       "      <th>host_is_superhost</th>\n",
       "      <th>host_listings_count</th>\n",
       "      <th>host_has_profile_pic</th>\n",
       "      <th>host_identity_verified</th>\n",
       "      <th>street</th>\n",
       "      <th>neighbourhood_cleansed</th>\n",
       "      <th>latitude</th>\n",
       "      <th>longitude</th>\n",
       "      <th>property_type</th>\n",
       "      <th>room_type</th>\n",
       "      <th>accommodates</th>\n",
       "      <th>bathrooms</th>\n",
       "      <th>bedrooms</th>\n",
       "      <th>beds</th>\n",
       "      <th>bed_type</th>\n",
       "      <th>price</th>\n",
       "      <th>cleaning_fee</th>\n",
       "      <th>guests_included</th>\n",
       "      <th>extra_people</th>\n",
       "      <th>minimum_nights</th>\n",
       "      <th>maximum_nights</th>\n",
       "      <th>availability_30</th>\n",
       "      <th>availability_60</th>\n",
       "      <th>availability_90</th>\n",
       "      <th>availability_365</th>\n",
       "      <th>number_of_reviews</th>\n",
       "      <th>first_review</th>\n",
       "      <th>last_review</th>\n",
       "      <th>review_scores_rating</th>\n",
       "      <th>review_scores_accuracy</th>\n",
       "      <th>review_scores_cleanliness</th>\n",
       "      <th>review_scores_checkin</th>\n",
       "      <th>review_scores_communication</th>\n",
       "      <th>review_scores_location</th>\n",
       "      <th>review_scores_value</th>\n",
       "      <th>instant_bookable</th>\n",
       "      <th>cancellation_policy</th>\n",
       "      <th>require_guest_profile_picture</th>\n",
       "      <th>require_guest_phone_verification</th>\n",
       "      <th>reviews_per_month</th>\n",
       "      <th>host_verifications_amex</th>\n",
       "      <th>host_verifications_email</th>\n",
       "      <th>host_verifications_facebook</th>\n",
       "      <th>host_verifications_google</th>\n",
       "      <th>host_verifications_jumio</th>\n",
       "      <th>host_verifications_kba</th>\n",
       "      <th>host_verifications_linkedin</th>\n",
       "      <th>host_verifications_manual_offline</th>\n",
       "      <th>host_verifications_manual_online</th>\n",
       "      <th>host_verifications_phone</th>\n",
       "      <th>host_verifications_reviews</th>\n",
       "      <th>host_verifications_sent_id</th>\n",
       "      <th>host_verifications_weibo</th>\n",
       "      <th>amenities_24-Hour Check-in</th>\n",
       "      <th>amenities_Air Conditioning</th>\n",
       "      <th>amenities_Breakfast</th>\n",
       "      <th>amenities_Buzzer/Wireless Intercom</th>\n",
       "      <th>amenities_Cable TV</th>\n",
       "      <th>amenities_Carbon Monoxide Detector</th>\n",
       "      <th>amenities_Cat(s)</th>\n",
       "      <th>amenities_Dog(s)</th>\n",
       "      <th>amenities_Doorman</th>\n",
       "      <th>amenities_Dryer</th>\n",
       "      <th>amenities_Elevator in Building</th>\n",
       "      <th>amenities_Essentials</th>\n",
       "      <th>amenities_Family/Kid Friendly</th>\n",
       "      <th>amenities_Fire Extinguisher</th>\n",
       "      <th>amenities_First Aid Kit</th>\n",
       "      <th>amenities_Free Parking on Premises</th>\n",
       "      <th>amenities_Free Parking on Street</th>\n",
       "      <th>amenities_Gym</th>\n",
       "      <th>amenities_Hair Dryer</th>\n",
       "      <th>amenities_Hangers</th>\n",
       "      <th>amenities_Heating</th>\n",
       "      <th>amenities_Hot Tub</th>\n",
       "      <th>amenities_Indoor Fireplace</th>\n",
       "      <th>amenities_Internet</th>\n",
       "      <th>amenities_Iron</th>\n",
       "      <th>amenities_Kitchen</th>\n",
       "      <th>amenities_Laptop Friendly Workspace</th>\n",
       "      <th>amenities_Lock on Bedroom Door</th>\n",
       "      <th>amenities_Other pet(s)</th>\n",
       "      <th>amenities_Paid Parking Off Premises</th>\n",
       "      <th>amenities_Pets Allowed</th>\n",
       "      <th>amenities_Pets live on this property</th>\n",
       "      <th>amenities_Pool</th>\n",
       "      <th>amenities_Safety Card</th>\n",
       "      <th>amenities_Shampoo</th>\n",
       "      <th>amenities_Smoke Detector</th>\n",
       "      <th>amenities_Smoking Allowed</th>\n",
       "      <th>amenities_Suitable for Events</th>\n",
       "      <th>amenities_TV</th>\n",
       "      <th>amenities_Washer</th>\n",
       "      <th>amenities_Washer / Dryer</th>\n",
       "      <th>amenities_Wheelchair Accessible</th>\n",
       "      <th>amenities_Wireless Internet</th>\n",
       "    </tr>\n",
       "  </thead>\n",
       "  <tbody>\n",
       "    <tr>\n",
       "      <th>682</th>\n",
       "      <td>7450348</td>\n",
       "      <td>2016-09-07</td>\n",
       "      <td>39019557</td>\n",
       "      <td>Brendon</td>\n",
       "      <td>2015-07-20</td>\n",
       "      <td>Never</td>\n",
       "      <td>0.0</td>\n",
       "      <td>0.0</td>\n",
       "      <td>0</td>\n",
       "      <td>1</td>\n",
       "      <td>0</td>\n",
       "      <td>0</td>\n",
       "      <td>North Margin Street, Boston, MA 02113, United ...</td>\n",
       "      <td>North End</td>\n",
       "      <td>42.364448</td>\n",
       "      <td>-71.05756</td>\n",
       "      <td>Apartment</td>\n",
       "      <td>Entire home/apt</td>\n",
       "      <td>2</td>\n",
       "      <td>1.0</td>\n",
       "      <td>2.0</td>\n",
       "      <td>2.0</td>\n",
       "      <td>Real Bed</td>\n",
       "      <td>200.0</td>\n",
       "      <td>0.0</td>\n",
       "      <td>1</td>\n",
       "      <td>0.0</td>\n",
       "      <td>1</td>\n",
       "      <td>1125</td>\n",
       "      <td>0</td>\n",
       "      <td>0</td>\n",
       "      <td>0</td>\n",
       "      <td>0</td>\n",
       "      <td>0</td>\n",
       "      <td>NaT</td>\n",
       "      <td>NaT</td>\n",
       "      <td>-9999.0</td>\n",
       "      <td>-9999.0</td>\n",
       "      <td>-9999.0</td>\n",
       "      <td>-9999.0</td>\n",
       "      <td>-9999.0</td>\n",
       "      <td>-9999.0</td>\n",
       "      <td>-9999.0</td>\n",
       "      <td>0</td>\n",
       "      <td>flexible</td>\n",
       "      <td>0</td>\n",
       "      <td>0</td>\n",
       "      <td>0.0</td>\n",
       "      <td>NaN</td>\n",
       "      <td>NaN</td>\n",
       "      <td>NaN</td>\n",
       "      <td>NaN</td>\n",
       "      <td>NaN</td>\n",
       "      <td>NaN</td>\n",
       "      <td>NaN</td>\n",
       "      <td>NaN</td>\n",
       "      <td>NaN</td>\n",
       "      <td>NaN</td>\n",
       "      <td>NaN</td>\n",
       "      <td>NaN</td>\n",
       "      <td>NaN</td>\n",
       "      <td>0</td>\n",
       "      <td>1</td>\n",
       "      <td>0</td>\n",
       "      <td>0</td>\n",
       "      <td>1</td>\n",
       "      <td>1</td>\n",
       "      <td>0</td>\n",
       "      <td>0</td>\n",
       "      <td>0</td>\n",
       "      <td>0</td>\n",
       "      <td>0</td>\n",
       "      <td>1</td>\n",
       "      <td>0</td>\n",
       "      <td>0</td>\n",
       "      <td>0</td>\n",
       "      <td>0</td>\n",
       "      <td>0</td>\n",
       "      <td>0</td>\n",
       "      <td>0</td>\n",
       "      <td>0</td>\n",
       "      <td>0</td>\n",
       "      <td>0</td>\n",
       "      <td>0</td>\n",
       "      <td>1</td>\n",
       "      <td>0</td>\n",
       "      <td>1</td>\n",
       "      <td>0</td>\n",
       "      <td>0</td>\n",
       "      <td>0</td>\n",
       "      <td>0</td>\n",
       "      <td>0</td>\n",
       "      <td>0</td>\n",
       "      <td>0</td>\n",
       "      <td>0</td>\n",
       "      <td>0</td>\n",
       "      <td>1</td>\n",
       "      <td>0</td>\n",
       "      <td>0</td>\n",
       "      <td>1</td>\n",
       "      <td>0</td>\n",
       "      <td>0</td>\n",
       "      <td>0</td>\n",
       "      <td>1</td>\n",
       "    </tr>\n",
       "  </tbody>\n",
       "</table>\n",
       "</div>"
      ],
      "text/plain": [
       "          id last_scraped   host_id host_name host_since host_response_time  \\\n",
       "682  7450348   2016-09-07  39019557   Brendon 2015-07-20              Never   \n",
       "\n",
       "     host_response_rate  host_acceptance_rate  host_is_superhost  \\\n",
       "682                 0.0                   0.0                  0   \n",
       "\n",
       "     host_listings_count  host_has_profile_pic  host_identity_verified  \\\n",
       "682                    1                     0                       0   \n",
       "\n",
       "                                                street neighbourhood_cleansed  \\\n",
       "682  North Margin Street, Boston, MA 02113, United ...              North End   \n",
       "\n",
       "      latitude  longitude property_type        room_type  accommodates  \\\n",
       "682  42.364448  -71.05756     Apartment  Entire home/apt             2   \n",
       "\n",
       "     bathrooms  bedrooms  beds  bed_type  price  cleaning_fee  \\\n",
       "682        1.0       2.0   2.0  Real Bed  200.0           0.0   \n",
       "\n",
       "     guests_included  extra_people  minimum_nights  maximum_nights  \\\n",
       "682                1           0.0               1            1125   \n",
       "\n",
       "     availability_30  availability_60  availability_90  availability_365  \\\n",
       "682                0                0                0                 0   \n",
       "\n",
       "     number_of_reviews first_review last_review  review_scores_rating  \\\n",
       "682                  0          NaT         NaT               -9999.0   \n",
       "\n",
       "     review_scores_accuracy  review_scores_cleanliness  review_scores_checkin  \\\n",
       "682                 -9999.0                    -9999.0                -9999.0   \n",
       "\n",
       "     review_scores_communication  review_scores_location  review_scores_value  \\\n",
       "682                      -9999.0                 -9999.0              -9999.0   \n",
       "\n",
       "     instant_bookable cancellation_policy  require_guest_profile_picture  \\\n",
       "682                 0            flexible                              0   \n",
       "\n",
       "     require_guest_phone_verification  reviews_per_month  \\\n",
       "682                                 0                0.0   \n",
       "\n",
       "     host_verifications_amex  host_verifications_email  \\\n",
       "682                      NaN                       NaN   \n",
       "\n",
       "     host_verifications_facebook  host_verifications_google  \\\n",
       "682                          NaN                        NaN   \n",
       "\n",
       "     host_verifications_jumio  host_verifications_kba  \\\n",
       "682                       NaN                     NaN   \n",
       "\n",
       "     host_verifications_linkedin  host_verifications_manual_offline  \\\n",
       "682                          NaN                                NaN   \n",
       "\n",
       "     host_verifications_manual_online  host_verifications_phone  \\\n",
       "682                               NaN                       NaN   \n",
       "\n",
       "     host_verifications_reviews  host_verifications_sent_id  \\\n",
       "682                         NaN                         NaN   \n",
       "\n",
       "     host_verifications_weibo  amenities_24-Hour Check-in  \\\n",
       "682                       NaN                           0   \n",
       "\n",
       "     amenities_Air Conditioning  amenities_Breakfast  \\\n",
       "682                           1                    0   \n",
       "\n",
       "     amenities_Buzzer/Wireless Intercom  amenities_Cable TV  \\\n",
       "682                                   0                   1   \n",
       "\n",
       "     amenities_Carbon Monoxide Detector  amenities_Cat(s)  amenities_Dog(s)  \\\n",
       "682                                   1                 0                 0   \n",
       "\n",
       "     amenities_Doorman  amenities_Dryer  amenities_Elevator in Building  \\\n",
       "682                  0                0                               0   \n",
       "\n",
       "     amenities_Essentials  amenities_Family/Kid Friendly  \\\n",
       "682                     1                              0   \n",
       "\n",
       "     amenities_Fire Extinguisher  amenities_First Aid Kit  \\\n",
       "682                            0                        0   \n",
       "\n",
       "     amenities_Free Parking on Premises  amenities_Free Parking on Street  \\\n",
       "682                                   0                                 0   \n",
       "\n",
       "     amenities_Gym  amenities_Hair Dryer  amenities_Hangers  \\\n",
       "682              0                     0                  0   \n",
       "\n",
       "     amenities_Heating  amenities_Hot Tub  amenities_Indoor Fireplace  \\\n",
       "682                  0                  0                           0   \n",
       "\n",
       "     amenities_Internet  amenities_Iron  amenities_Kitchen  \\\n",
       "682                   1               0                  1   \n",
       "\n",
       "     amenities_Laptop Friendly Workspace  amenities_Lock on Bedroom Door  \\\n",
       "682                                    0                               0   \n",
       "\n",
       "     amenities_Other pet(s)  amenities_Paid Parking Off Premises  \\\n",
       "682                       0                                    0   \n",
       "\n",
       "     amenities_Pets Allowed  amenities_Pets live on this property  \\\n",
       "682                       0                                     0   \n",
       "\n",
       "     amenities_Pool  amenities_Safety Card  amenities_Shampoo  \\\n",
       "682               0                      0                  0   \n",
       "\n",
       "     amenities_Smoke Detector  amenities_Smoking Allowed  \\\n",
       "682                         1                          0   \n",
       "\n",
       "     amenities_Suitable for Events  amenities_TV  amenities_Washer  \\\n",
       "682                              0             1                 0   \n",
       "\n",
       "     amenities_Washer / Dryer  amenities_Wheelchair Accessible  \\\n",
       "682                         0                                0   \n",
       "\n",
       "     amenities_Wireless Internet  \n",
       "682                            1  "
      ]
     },
     "execution_count": 106,
     "metadata": {},
     "output_type": "execute_result"
    }
   ],
   "source": [
    "data[data.host_verifications_google.isna()]"
   ]
  },
  {
   "cell_type": "code",
   "execution_count": 107,
   "metadata": {
    "ExecuteTime": {
     "end_time": "2020-02-06T14:45:52.304725Z",
     "start_time": "2020-02-06T14:45:52.296728Z"
    }
   },
   "outputs": [],
   "source": [
    "# Taking care of the one listing with no verifications\n",
    "host_verification_cols = data.filter(like = 'host_verifications').columns.values\n",
    "data[host_verification_cols] = data[host_verification_cols].fillna(0)"
   ]
  },
  {
   "cell_type": "markdown",
   "metadata": {},
   "source": [
    "### Check Missing Once More"
   ]
  },
  {
   "cell_type": "code",
   "execution_count": 108,
   "metadata": {
    "ExecuteTime": {
     "end_time": "2020-02-06T14:45:52.317200Z",
     "start_time": "2020-02-06T14:45:52.305882Z"
    }
   },
   "outputs": [
    {
     "data": {
      "text/plain": [
       "Index(['first_review', 'last_review'], dtype='object')"
      ]
     },
     "execution_count": 108,
     "metadata": {},
     "output_type": "execute_result"
    }
   ],
   "source": [
    "# Only the reviews dates have missing values. Since it doesn't affect out questions and it is not needed \n",
    "# for modelling, we also will drop these columns\n",
    "\n",
    "data.columns[data.isna().sum() > 0]"
   ]
  },
  {
   "cell_type": "code",
   "execution_count": 109,
   "metadata": {
    "ExecuteTime": {
     "end_time": "2020-02-06T14:45:52.322464Z",
     "start_time": "2020-02-06T14:45:52.318598Z"
    }
   },
   "outputs": [],
   "source": [
    "data = data.drop([\"first_review\", \"last_review\"], axis=1)"
   ]
  },
  {
   "cell_type": "code",
   "execution_count": 110,
   "metadata": {
    "ExecuteTime": {
     "end_time": "2020-02-06T14:45:52.332668Z",
     "start_time": "2020-02-06T14:45:52.323763Z"
    }
   },
   "outputs": [
    {
     "data": {
      "text/plain": [
       "Index([], dtype='object')"
      ]
     },
     "execution_count": 110,
     "metadata": {},
     "output_type": "execute_result"
    }
   ],
   "source": [
    "data.columns[data.isna().sum() > 0]"
   ]
  },
  {
   "cell_type": "markdown",
   "metadata": {},
   "source": [
    "## Feature Engineering"
   ]
  },
  {
   "cell_type": "markdown",
   "metadata": {},
   "source": [
    "### Get Duration as a host\n",
    "\n",
    "We can then add a new variable representing the amount of days that an airbnb host has been hosting."
   ]
  },
  {
   "cell_type": "code",
   "execution_count": 111,
   "metadata": {
    "ExecuteTime": {
     "end_time": "2020-02-06T14:45:52.363439Z",
     "start_time": "2020-02-06T14:45:52.333803Z"
    }
   },
   "outputs": [
    {
     "data": {
      "text/plain": [
       "3556     769\n",
       "1040    1272\n",
       "Name: host_for_days, dtype: int64"
      ]
     },
     "execution_count": 111,
     "metadata": {},
     "output_type": "execute_result"
    }
   ],
   "source": [
    "data[\"host_for_days\"] = (data.last_scraped - data.host_since)\n",
    "data[\"host_for_days\"] = data[\"host_for_days\"].apply(lambda x: x.days)\n",
    "data[\"host_for_days\"].sample(2)"
   ]
  },
  {
   "cell_type": "markdown",
   "metadata": {},
   "source": [
    "## Check for Price Outliers"
   ]
  },
  {
   "cell_type": "markdown",
   "metadata": {},
   "source": [
    "Since my analysis is going to be based on the price, we should check for outliers and strip the dataset of these \"toxic\" datapoints that will in turn mess with our statistical and modelling analysis."
   ]
  },
  {
   "cell_type": "code",
   "execution_count": 135,
   "metadata": {
    "ExecuteTime": {
     "end_time": "2020-02-06T14:51:30.372665Z",
     "start_time": "2020-02-06T14:51:29.973081Z"
    }
   },
   "outputs": [
    {
     "data": {
      "text/plain": [
       "<matplotlib.axes._subplots.AxesSubplot at 0x7fbfdd120160>"
      ]
     },
     "execution_count": 135,
     "metadata": {},
     "output_type": "execute_result"
    },
    {
     "data": {
      "image/png": "[encoded data removed]",
      "text/plain": [
       "<Figure size 1080x360 with 2 Axes>"
      ]
     },
     "metadata": {
      "needs_background": "light"
     },
     "output_type": "display_data"
    }
   ],
   "source": [
    "fig, ax = plt.subplots(1,2, figsize=(15,5))\n",
    "sns.distplot(data.price, ax=ax[0])\n",
    "sns.boxplot(data.price, ax=ax[1])"
   ]
  },
  {
   "cell_type": "markdown",
   "metadata": {},
   "source": [
    "##### Percentage of outliers"
   ]
  },
  {
   "cell_type": "code",
   "execution_count": 140,
   "metadata": {
    "ExecuteTime": {
     "end_time": "2020-02-06T14:53:33.661487Z",
     "start_time": "2020-02-06T14:53:33.652683Z"
    }
   },
   "outputs": [
    {
     "name": "stdout",
     "output_type": "stream",
     "text": [
      "The Percentage of outliers over 500$ is 1.8410041841004186%\n"
     ]
    }
   ],
   "source": [
    "print(\"The Percentage of outliers over 500$ is {}%\".format(data[data.price > 500].id.count() / data.shape[0] * 100))"
   ]
  },
  {
   "cell_type": "code",
   "execution_count": 141,
   "metadata": {
    "ExecuteTime": {
     "end_time": "2020-02-06T14:55:25.861195Z",
     "start_time": "2020-02-06T14:55:25.851904Z"
    }
   },
   "outputs": [],
   "source": [
    "# In order to preserve the \"sanity\" of our data and since the outliers only sum up to 1.8% of the data, \n",
    "# then we can remove them.\n",
    "data = data[(data.price < 500)]"
   ]
  },
  {
   "cell_type": "code",
   "execution_count": 142,
   "metadata": {
    "ExecuteTime": {
     "end_time": "2020-02-06T14:55:26.862206Z",
     "start_time": "2020-02-06T14:55:26.507113Z"
    }
   },
   "outputs": [
    {
     "data": {
      "text/plain": [
       "<matplotlib.axes._subplots.AxesSubplot at 0x7fbfdd095da0>"
      ]
     },
     "execution_count": 142,
     "metadata": {},
     "output_type": "execute_result"
    },
    {
     "data": {
      "image/png": "[encoded data removed]",
      "text/plain": [
       "<Figure size 1080x360 with 2 Axes>"
      ]
     },
     "metadata": {
      "needs_background": "light"
     },
     "output_type": "display_data"
    }
   ],
   "source": [
    "fig, ax = plt.subplots(1,2, figsize=(15,5))\n",
    "sns.distplot(data.price, ax=ax[0])\n",
    "sns.boxplot(data.price, ax=ax[1])"
   ]
  },
  {
   "cell_type": "markdown",
   "metadata": {},
   "source": [
    "## Write to File\n",
    "\n",
    "Write the processed data to a csv file so it can later be used by the analysis jupyter notebook"
   ]
  },
  {
   "cell_type": "code",
   "execution_count": 143,
   "metadata": {
    "ExecuteTime": {
     "end_time": "2020-02-06T14:55:44.135817Z",
     "start_time": "2020-02-06T14:55:43.840497Z"
    }
   },
   "outputs": [],
   "source": [
    "data.to_csv('airbnb_processed_data.csv', index=False)"
   ]
  },
  {
   "cell_type": "markdown",
   "metadata": {},
   "source": [
    "# Calendar\n",
    "\n",
    "The calendar data holds information about the availability and price of each listing throughout the year"
   ]
  },
  {
   "cell_type": "code",
   "execution_count": 54,
   "metadata": {
    "ExecuteTime": {
     "end_time": "2020-02-06T10:34:00.760136Z",
     "start_time": "2020-02-06T10:33:59.973544Z"
    }
   },
   "outputs": [
    {
     "data": {
      "text/html": [
       "<div>\n",
       "<style scoped>\n",
       "    .dataframe tbody tr th:only-of-type {\n",
       "        vertical-align: middle;\n",
       "    }\n",
       "\n",
       "    .dataframe tbody tr th {\n",
       "        vertical-align: top;\n",
       "    }\n",
       "\n",
       "    .dataframe thead th {\n",
       "        text-align: right;\n",
       "    }\n",
       "</style>\n",
       "<table border=\"1\" class=\"dataframe\">\n",
       "  <thead>\n",
       "    <tr style=\"text-align: right;\">\n",
       "      <th></th>\n",
       "      <th>listing_id</th>\n",
       "      <th>date</th>\n",
       "      <th>available</th>\n",
       "      <th>price</th>\n",
       "    </tr>\n",
       "  </thead>\n",
       "  <tbody>\n",
       "    <tr>\n",
       "      <th>1283279</th>\n",
       "      <td>6277566</td>\n",
       "      <td>2016-11-05</td>\n",
       "      <td>f</td>\n",
       "      <td>NaN</td>\n",
       "    </tr>\n",
       "    <tr>\n",
       "      <th>283202</th>\n",
       "      <td>7293671</td>\n",
       "      <td>2016-10-13</td>\n",
       "      <td>f</td>\n",
       "      <td>NaN</td>\n",
       "    </tr>\n",
       "    <tr>\n",
       "      <th>769614</th>\n",
       "      <td>14754902</td>\n",
       "      <td>2017-02-18</td>\n",
       "      <td>f</td>\n",
       "      <td>NaN</td>\n",
       "    </tr>\n",
       "    <tr>\n",
       "      <th>285271</th>\n",
       "      <td>2636365</td>\n",
       "      <td>2017-07-01</td>\n",
       "      <td>f</td>\n",
       "      <td>NaN</td>\n",
       "    </tr>\n",
       "    <tr>\n",
       "      <th>1181165</th>\n",
       "      <td>13638077</td>\n",
       "      <td>2017-08-11</td>\n",
       "      <td>t</td>\n",
       "      <td>$130.00</td>\n",
       "    </tr>\n",
       "  </tbody>\n",
       "</table>\n",
       "</div>"
      ],
      "text/plain": [
       "         listing_id       date available    price\n",
       "1283279     6277566 2016-11-05         f      NaN\n",
       "283202      7293671 2016-10-13         f      NaN\n",
       "769614     14754902 2017-02-18         f      NaN\n",
       "285271      2636365 2017-07-01         f      NaN\n",
       "1181165    13638077 2017-08-11         t  $130.00"
      ]
     },
     "execution_count": 54,
     "metadata": {},
     "output_type": "execute_result"
    }
   ],
   "source": [
    "calendar = pd.read_csv('calendar.csv', parse_dates=[\"date\"])\n",
    "calendar.sample(5)"
   ]
  },
  {
   "cell_type": "markdown",
   "metadata": {},
   "source": [
    "We can see that this dataset holds the same format issues as the previous listings one. \n",
    "\n",
    "To solve this:\n",
    "\n",
    "- **AVAILABLE** - Type: STRING. Parse from 'f' and 't' to 0 and 1, respectively.\n",
    "- **PRICE** - Type: STRING. Remove the dollar sign and the comma, like before"
   ]
  },
  {
   "cell_type": "code",
   "execution_count": 55,
   "metadata": {
    "ExecuteTime": {
     "end_time": "2020-02-06T10:34:01.563344Z",
     "start_time": "2020-02-06T10:34:00.761461Z"
    }
   },
   "outputs": [
    {
     "data": {
      "text/html": [
       "<div>\n",
       "<style scoped>\n",
       "    .dataframe tbody tr th:only-of-type {\n",
       "        vertical-align: middle;\n",
       "    }\n",
       "\n",
       "    .dataframe tbody tr th {\n",
       "        vertical-align: top;\n",
       "    }\n",
       "\n",
       "    .dataframe thead th {\n",
       "        text-align: right;\n",
       "    }\n",
       "</style>\n",
       "<table border=\"1\" class=\"dataframe\">\n",
       "  <thead>\n",
       "    <tr style=\"text-align: right;\">\n",
       "      <th></th>\n",
       "      <th>listing_id</th>\n",
       "      <th>date</th>\n",
       "      <th>available</th>\n",
       "      <th>price</th>\n",
       "    </tr>\n",
       "  </thead>\n",
       "  <tbody>\n",
       "    <tr>\n",
       "      <th>377626</th>\n",
       "      <td>14461998</td>\n",
       "      <td>2017-01-13</td>\n",
       "      <td>0</td>\n",
       "      <td>NaN</td>\n",
       "    </tr>\n",
       "    <tr>\n",
       "      <th>141783</th>\n",
       "      <td>2933661</td>\n",
       "      <td>2017-03-23</td>\n",
       "      <td>1</td>\n",
       "      <td>85.0</td>\n",
       "    </tr>\n",
       "    <tr>\n",
       "      <th>1015423</th>\n",
       "      <td>737519</td>\n",
       "      <td>2016-09-12</td>\n",
       "      <td>0</td>\n",
       "      <td>NaN</td>\n",
       "    </tr>\n",
       "    <tr>\n",
       "      <th>666831</th>\n",
       "      <td>14467554</td>\n",
       "      <td>2017-03-02</td>\n",
       "      <td>1</td>\n",
       "      <td>275.0</td>\n",
       "    </tr>\n",
       "    <tr>\n",
       "      <th>747267</th>\n",
       "      <td>497810</td>\n",
       "      <td>2017-05-03</td>\n",
       "      <td>0</td>\n",
       "      <td>NaN</td>\n",
       "    </tr>\n",
       "  </tbody>\n",
       "</table>\n",
       "</div>"
      ],
      "text/plain": [
       "         listing_id       date  available  price\n",
       "377626     14461998 2017-01-13          0    NaN\n",
       "141783      2933661 2017-03-23          1   85.0\n",
       "1015423      737519 2016-09-12          0    NaN\n",
       "666831     14467554 2017-03-02          1  275.0\n",
       "747267       497810 2017-05-03          0    NaN"
      ]
     },
     "execution_count": 55,
     "metadata": {},
     "output_type": "execute_result"
    }
   ],
   "source": [
    "calendar[\"available\"] = calendar[\"available\"].replace({'f':0, 't':1}).astype(int)\n",
    "calendar = parse_prices(calendar, ['price'])\n",
    "calendar.sample(5)"
   ]
  },
  {
   "cell_type": "markdown",
   "metadata": {},
   "source": [
    "Write the processed data to a csv file so it can later be used by the analysis jupyter notebook"
   ]
  },
  {
   "cell_type": "code",
   "execution_count": 56,
   "metadata": {
    "ExecuteTime": {
     "end_time": "2020-02-06T10:34:11.400979Z",
     "start_time": "2020-02-06T10:34:01.564614Z"
    }
   },
   "outputs": [],
   "source": [
    "calendar.to_csv('calendar_processed.csv', index=False)"
   ]
  }
 ],
 "metadata": {
  "kernelspec": {
   "display_name": "Python 3",
   "language": "python",
   "name": "python3"
  },
  "language_info": {
   "codemirror_mode": {
    "name": "ipython",
    "version": 3
   },
   "file_extension": ".py",
   "mimetype": "text/x-python",
   "name": "python",
   "nbconvert_exporter": "python",
   "pygments_lexer": "ipython3",
   "version": "3.5.2"
  },
  "toc": {
   "base_numbering": 1,
   "nav_menu": {},
   "number_sections": true,
   "sideBar": true,
   "skip_h1_title": false,
   "title_cell": "Table of Contents",
   "title_sidebar": "Contents",
   "toc_cell": false,
   "toc_position": {
    "height": "calc(100% - 180px)",
    "left": "10px",
    "top": "150px",
    "width": "384.473px"
   },
   "toc_section_display": true,
   "toc_window_display": true
  }
 },
 "nbformat": 4,
 "nbformat_minor": 4
}
